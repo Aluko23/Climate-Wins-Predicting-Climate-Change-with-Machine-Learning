{
 "cells": [
  {
   "cell_type": "markdown",
   "id": "48d4204d-43ba-4324-9c51-905f71fe3bef",
   "metadata": {},
   "source": [
    "# Keras layered model: CNN"
   ]
  },
  {
   "cell_type": "markdown",
   "id": "85378d9c-fe13-4aff-a9d0-f7ab26d55ddc",
   "metadata": {},
   "source": [
    "# The Script Contents \n",
    "\n",
    "1. Importing Libraries and Data\n",
    "2. Data Wrangling\n",
    "3. Reshaping for modeling\n",
    "4. Data Split\n",
    "5. Creating Keras Model\n",
    "6. Compiling and Running\n",
    "7. Creating Confusion Matrix "
   ]
  },
  {
   "cell_type": "markdown",
   "id": "998044d8-dcae-4eaf-8075-eb36e6ba1436",
   "metadata": {},
   "source": [
    "# 1. Importing Libraries and Data"
   ]
  },
  {
   "cell_type": "code",
   "execution_count": 1,
   "id": "c1c0d968-2bff-49af-bdba-2ac8b355c966",
   "metadata": {},
   "outputs": [],
   "source": [
    "import pandas as pd\n",
    "import numpy as np\n",
    "import seaborn as sns\n",
    "import os\n",
    "import operator\n",
    "import matplotlib.pyplot as plt\n",
    "import tensorflow as tf\n",
    "from tensorflow import keras\n",
    "from numpy import unique\n",
    "from numpy import reshape\n",
    "from keras.models import Sequential\n",
    "from keras.layers import Conv1D, Conv2D, Dense, BatchNormalization, Flatten, MaxPooling1D, Dropout\n",
    "from keras.utils import to_categorical\n",
    "from sklearn.model_selection import train_test_split\n",
    "from sklearn.preprocessing import LabelEncoder\n",
    "\n",
    "import warnings\n",
    "warnings.filterwarnings(\"ignore\")"
   ]
  },
  {
   "cell_type": "code",
   "execution_count": 2,
   "id": "66d8d18d-f43a-43ed-ab82-1e17b342d9e9",
   "metadata": {},
   "outputs": [],
   "source": [
    "path = r'C:\\Users\\Tim\\Desktop\\Data Analytics Intro\\Machine Learning\\Data sets\\Processed Data'\n",
    "weather_df = pd.read_csv(os.path.join(path, '[DATASET]_scaled.csv'))"
   ]
  },
  {
   "cell_type": "code",
   "execution_count": 3,
   "id": "4e2d4ab0-4063-42e2-aa7d-3c1c367df3d7",
   "metadata": {},
   "outputs": [],
   "source": [
    "path = r'C:\\Users\\Tim\\Desktop\\Data Analytics Intro\\Machine Learning\\Data sets'"
   ]
  },
  {
   "cell_type": "code",
   "execution_count": 4,
   "id": "54a3527b-b777-4da4-a09d-f0f43d7968a6",
   "metadata": {},
   "outputs": [],
   "source": [
    "df = pd.read_csv(os.path.join(path, 'Original Data', 'Dataset-weather-prediction-dataset-processed.csv'))"
   ]
  },
  {
   "cell_type": "code",
   "execution_count": 5,
   "id": "9387730b-f2e1-4f80-803e-521f864ad904",
   "metadata": {},
   "outputs": [],
   "source": [
    "df1 = pd.read_csv(os.path.join(path, 'Original Data', 'Dataset-Answers-Weather_Prediction_Pleasant_Weather.csv'))"
   ]
  },
  {
   "cell_type": "code",
   "execution_count": 6,
   "id": "4057bba6-6494-4d46-abd5-c31046a6a88f",
   "metadata": {},
   "outputs": [
    {
     "data": {
      "text/html": [
       "<div>\n",
       "<style scoped>\n",
       "    .dataframe tbody tr th:only-of-type {\n",
       "        vertical-align: middle;\n",
       "    }\n",
       "\n",
       "    .dataframe tbody tr th {\n",
       "        vertical-align: top;\n",
       "    }\n",
       "\n",
       "    .dataframe thead th {\n",
       "        text-align: right;\n",
       "    }\n",
       "</style>\n",
       "<table border=\"1\" class=\"dataframe\">\n",
       "  <thead>\n",
       "    <tr style=\"text-align: right;\">\n",
       "      <th></th>\n",
       "      <th>DATE</th>\n",
       "      <th>MONTH</th>\n",
       "      <th>BASEL_cloud_cover</th>\n",
       "      <th>BASEL_wind_speed</th>\n",
       "      <th>BASEL_humidity</th>\n",
       "      <th>BASEL_pressure</th>\n",
       "      <th>BASEL_global_radiation</th>\n",
       "      <th>BASEL_precipitation</th>\n",
       "      <th>BASEL_snow_depth</th>\n",
       "      <th>BASEL_sunshine</th>\n",
       "      <th>...</th>\n",
       "      <th>VALENTIA_cloud_cover</th>\n",
       "      <th>VALENTIA_humidity</th>\n",
       "      <th>VALENTIA_pressure</th>\n",
       "      <th>VALENTIA_global_radiation</th>\n",
       "      <th>VALENTIA_precipitation</th>\n",
       "      <th>VALENTIA_snow_depth</th>\n",
       "      <th>VALENTIA_sunshine</th>\n",
       "      <th>VALENTIA_temp_mean</th>\n",
       "      <th>VALENTIA_temp_min</th>\n",
       "      <th>VALENTIA_temp_max</th>\n",
       "    </tr>\n",
       "  </thead>\n",
       "  <tbody>\n",
       "    <tr>\n",
       "      <th>0</th>\n",
       "      <td>19600101</td>\n",
       "      <td>1</td>\n",
       "      <td>7</td>\n",
       "      <td>2.1</td>\n",
       "      <td>0.85</td>\n",
       "      <td>1.018</td>\n",
       "      <td>0.32</td>\n",
       "      <td>0.09</td>\n",
       "      <td>0</td>\n",
       "      <td>0.7</td>\n",
       "      <td>...</td>\n",
       "      <td>5</td>\n",
       "      <td>0.88</td>\n",
       "      <td>1.0003</td>\n",
       "      <td>0.45</td>\n",
       "      <td>0.34</td>\n",
       "      <td>0</td>\n",
       "      <td>4.7</td>\n",
       "      <td>8.5</td>\n",
       "      <td>6.0</td>\n",
       "      <td>10.9</td>\n",
       "    </tr>\n",
       "    <tr>\n",
       "      <th>1</th>\n",
       "      <td>19600102</td>\n",
       "      <td>1</td>\n",
       "      <td>6</td>\n",
       "      <td>2.1</td>\n",
       "      <td>0.84</td>\n",
       "      <td>1.018</td>\n",
       "      <td>0.36</td>\n",
       "      <td>1.05</td>\n",
       "      <td>0</td>\n",
       "      <td>1.1</td>\n",
       "      <td>...</td>\n",
       "      <td>7</td>\n",
       "      <td>0.91</td>\n",
       "      <td>1.0007</td>\n",
       "      <td>0.25</td>\n",
       "      <td>0.84</td>\n",
       "      <td>0</td>\n",
       "      <td>0.7</td>\n",
       "      <td>8.9</td>\n",
       "      <td>5.6</td>\n",
       "      <td>12.1</td>\n",
       "    </tr>\n",
       "    <tr>\n",
       "      <th>2</th>\n",
       "      <td>19600103</td>\n",
       "      <td>1</td>\n",
       "      <td>8</td>\n",
       "      <td>2.1</td>\n",
       "      <td>0.90</td>\n",
       "      <td>1.018</td>\n",
       "      <td>0.18</td>\n",
       "      <td>0.30</td>\n",
       "      <td>0</td>\n",
       "      <td>0.0</td>\n",
       "      <td>...</td>\n",
       "      <td>7</td>\n",
       "      <td>0.91</td>\n",
       "      <td>1.0096</td>\n",
       "      <td>0.17</td>\n",
       "      <td>0.08</td>\n",
       "      <td>0</td>\n",
       "      <td>0.1</td>\n",
       "      <td>10.5</td>\n",
       "      <td>8.1</td>\n",
       "      <td>12.9</td>\n",
       "    </tr>\n",
       "    <tr>\n",
       "      <th>3</th>\n",
       "      <td>19600104</td>\n",
       "      <td>1</td>\n",
       "      <td>3</td>\n",
       "      <td>2.1</td>\n",
       "      <td>0.92</td>\n",
       "      <td>1.018</td>\n",
       "      <td>0.58</td>\n",
       "      <td>0.00</td>\n",
       "      <td>0</td>\n",
       "      <td>4.1</td>\n",
       "      <td>...</td>\n",
       "      <td>7</td>\n",
       "      <td>0.86</td>\n",
       "      <td>1.0184</td>\n",
       "      <td>0.13</td>\n",
       "      <td>0.98</td>\n",
       "      <td>0</td>\n",
       "      <td>0.0</td>\n",
       "      <td>7.4</td>\n",
       "      <td>7.3</td>\n",
       "      <td>10.6</td>\n",
       "    </tr>\n",
       "    <tr>\n",
       "      <th>4</th>\n",
       "      <td>19600105</td>\n",
       "      <td>1</td>\n",
       "      <td>6</td>\n",
       "      <td>2.1</td>\n",
       "      <td>0.95</td>\n",
       "      <td>1.018</td>\n",
       "      <td>0.65</td>\n",
       "      <td>0.14</td>\n",
       "      <td>0</td>\n",
       "      <td>5.4</td>\n",
       "      <td>...</td>\n",
       "      <td>3</td>\n",
       "      <td>0.80</td>\n",
       "      <td>1.0328</td>\n",
       "      <td>0.46</td>\n",
       "      <td>0.00</td>\n",
       "      <td>0</td>\n",
       "      <td>5.7</td>\n",
       "      <td>5.7</td>\n",
       "      <td>3.0</td>\n",
       "      <td>8.4</td>\n",
       "    </tr>\n",
       "  </tbody>\n",
       "</table>\n",
       "<p>5 rows × 170 columns</p>\n",
       "</div>"
      ],
      "text/plain": [
       "       DATE  MONTH  BASEL_cloud_cover  BASEL_wind_speed  BASEL_humidity  \\\n",
       "0  19600101      1                  7               2.1            0.85   \n",
       "1  19600102      1                  6               2.1            0.84   \n",
       "2  19600103      1                  8               2.1            0.90   \n",
       "3  19600104      1                  3               2.1            0.92   \n",
       "4  19600105      1                  6               2.1            0.95   \n",
       "\n",
       "   BASEL_pressure  BASEL_global_radiation  BASEL_precipitation  \\\n",
       "0           1.018                    0.32                 0.09   \n",
       "1           1.018                    0.36                 1.05   \n",
       "2           1.018                    0.18                 0.30   \n",
       "3           1.018                    0.58                 0.00   \n",
       "4           1.018                    0.65                 0.14   \n",
       "\n",
       "   BASEL_snow_depth  BASEL_sunshine  ...  VALENTIA_cloud_cover  \\\n",
       "0                 0             0.7  ...                     5   \n",
       "1                 0             1.1  ...                     7   \n",
       "2                 0             0.0  ...                     7   \n",
       "3                 0             4.1  ...                     7   \n",
       "4                 0             5.4  ...                     3   \n",
       "\n",
       "   VALENTIA_humidity  VALENTIA_pressure  VALENTIA_global_radiation  \\\n",
       "0               0.88             1.0003                       0.45   \n",
       "1               0.91             1.0007                       0.25   \n",
       "2               0.91             1.0096                       0.17   \n",
       "3               0.86             1.0184                       0.13   \n",
       "4               0.80             1.0328                       0.46   \n",
       "\n",
       "   VALENTIA_precipitation  VALENTIA_snow_depth  VALENTIA_sunshine  \\\n",
       "0                    0.34                    0                4.7   \n",
       "1                    0.84                    0                0.7   \n",
       "2                    0.08                    0                0.1   \n",
       "3                    0.98                    0                0.0   \n",
       "4                    0.00                    0                5.7   \n",
       "\n",
       "   VALENTIA_temp_mean  VALENTIA_temp_min  VALENTIA_temp_max  \n",
       "0                 8.5                6.0               10.9  \n",
       "1                 8.9                5.6               12.1  \n",
       "2                10.5                8.1               12.9  \n",
       "3                 7.4                7.3               10.6  \n",
       "4                 5.7                3.0                8.4  \n",
       "\n",
       "[5 rows x 170 columns]"
      ]
     },
     "execution_count": 6,
     "metadata": {},
     "output_type": "execute_result"
    }
   ],
   "source": [
    "df.head()"
   ]
  },
  {
   "cell_type": "code",
   "execution_count": 7,
   "id": "7c7e81f6-215a-4bc5-92d0-293f81509c6c",
   "metadata": {},
   "outputs": [
    {
     "data": {
      "text/plain": [
       "(22950, 170)"
      ]
     },
     "execution_count": 7,
     "metadata": {},
     "output_type": "execute_result"
    }
   ],
   "source": [
    "df.shape"
   ]
  },
  {
   "cell_type": "code",
   "execution_count": 8,
   "id": "5883e102-747f-46ac-9e2f-23159151e26b",
   "metadata": {},
   "outputs": [
    {
     "data": {
      "text/html": [
       "<div>\n",
       "<style scoped>\n",
       "    .dataframe tbody tr th:only-of-type {\n",
       "        vertical-align: middle;\n",
       "    }\n",
       "\n",
       "    .dataframe tbody tr th {\n",
       "        vertical-align: top;\n",
       "    }\n",
       "\n",
       "    .dataframe thead th {\n",
       "        text-align: right;\n",
       "    }\n",
       "</style>\n",
       "<table border=\"1\" class=\"dataframe\">\n",
       "  <thead>\n",
       "    <tr style=\"text-align: right;\">\n",
       "      <th></th>\n",
       "      <th>DATE</th>\n",
       "      <th>BASEL_pleasant_weather</th>\n",
       "      <th>BELGRADE_pleasant_weather</th>\n",
       "      <th>BUDAPEST_pleasant_weather</th>\n",
       "      <th>DEBILT_pleasant_weather</th>\n",
       "      <th>DUSSELDORF_pleasant_weather</th>\n",
       "      <th>HEATHROW_pleasant_weather</th>\n",
       "      <th>KASSEL_pleasant_weather</th>\n",
       "      <th>LJUBLJANA_pleasant_weather</th>\n",
       "      <th>MAASTRICHT_pleasant_weather</th>\n",
       "      <th>MADRID_pleasant_weather</th>\n",
       "      <th>MUNCHENB_pleasant_weather</th>\n",
       "      <th>OSLO_pleasant_weather</th>\n",
       "      <th>SONNBLICK_pleasant_weather</th>\n",
       "      <th>STOCKHOLM_pleasant_weather</th>\n",
       "      <th>VALENTIA_pleasant_weather</th>\n",
       "    </tr>\n",
       "  </thead>\n",
       "  <tbody>\n",
       "    <tr>\n",
       "      <th>0</th>\n",
       "      <td>19600101</td>\n",
       "      <td>0</td>\n",
       "      <td>0</td>\n",
       "      <td>0</td>\n",
       "      <td>0</td>\n",
       "      <td>0</td>\n",
       "      <td>0</td>\n",
       "      <td>0</td>\n",
       "      <td>0</td>\n",
       "      <td>0</td>\n",
       "      <td>0</td>\n",
       "      <td>0</td>\n",
       "      <td>0</td>\n",
       "      <td>0</td>\n",
       "      <td>0</td>\n",
       "      <td>0</td>\n",
       "    </tr>\n",
       "    <tr>\n",
       "      <th>1</th>\n",
       "      <td>19600102</td>\n",
       "      <td>0</td>\n",
       "      <td>0</td>\n",
       "      <td>0</td>\n",
       "      <td>0</td>\n",
       "      <td>0</td>\n",
       "      <td>0</td>\n",
       "      <td>0</td>\n",
       "      <td>0</td>\n",
       "      <td>0</td>\n",
       "      <td>0</td>\n",
       "      <td>0</td>\n",
       "      <td>0</td>\n",
       "      <td>0</td>\n",
       "      <td>0</td>\n",
       "      <td>0</td>\n",
       "    </tr>\n",
       "    <tr>\n",
       "      <th>2</th>\n",
       "      <td>19600103</td>\n",
       "      <td>0</td>\n",
       "      <td>0</td>\n",
       "      <td>0</td>\n",
       "      <td>0</td>\n",
       "      <td>0</td>\n",
       "      <td>0</td>\n",
       "      <td>0</td>\n",
       "      <td>0</td>\n",
       "      <td>0</td>\n",
       "      <td>0</td>\n",
       "      <td>0</td>\n",
       "      <td>0</td>\n",
       "      <td>0</td>\n",
       "      <td>0</td>\n",
       "      <td>0</td>\n",
       "    </tr>\n",
       "    <tr>\n",
       "      <th>3</th>\n",
       "      <td>19600104</td>\n",
       "      <td>0</td>\n",
       "      <td>0</td>\n",
       "      <td>0</td>\n",
       "      <td>0</td>\n",
       "      <td>0</td>\n",
       "      <td>0</td>\n",
       "      <td>0</td>\n",
       "      <td>0</td>\n",
       "      <td>0</td>\n",
       "      <td>0</td>\n",
       "      <td>0</td>\n",
       "      <td>0</td>\n",
       "      <td>0</td>\n",
       "      <td>0</td>\n",
       "      <td>0</td>\n",
       "    </tr>\n",
       "    <tr>\n",
       "      <th>4</th>\n",
       "      <td>19600105</td>\n",
       "      <td>0</td>\n",
       "      <td>0</td>\n",
       "      <td>0</td>\n",
       "      <td>0</td>\n",
       "      <td>0</td>\n",
       "      <td>0</td>\n",
       "      <td>0</td>\n",
       "      <td>0</td>\n",
       "      <td>0</td>\n",
       "      <td>0</td>\n",
       "      <td>0</td>\n",
       "      <td>0</td>\n",
       "      <td>0</td>\n",
       "      <td>0</td>\n",
       "      <td>0</td>\n",
       "    </tr>\n",
       "  </tbody>\n",
       "</table>\n",
       "</div>"
      ],
      "text/plain": [
       "       DATE  BASEL_pleasant_weather  BELGRADE_pleasant_weather  \\\n",
       "0  19600101                       0                          0   \n",
       "1  19600102                       0                          0   \n",
       "2  19600103                       0                          0   \n",
       "3  19600104                       0                          0   \n",
       "4  19600105                       0                          0   \n",
       "\n",
       "   BUDAPEST_pleasant_weather  DEBILT_pleasant_weather  \\\n",
       "0                          0                        0   \n",
       "1                          0                        0   \n",
       "2                          0                        0   \n",
       "3                          0                        0   \n",
       "4                          0                        0   \n",
       "\n",
       "   DUSSELDORF_pleasant_weather  HEATHROW_pleasant_weather  \\\n",
       "0                            0                          0   \n",
       "1                            0                          0   \n",
       "2                            0                          0   \n",
       "3                            0                          0   \n",
       "4                            0                          0   \n",
       "\n",
       "   KASSEL_pleasant_weather  LJUBLJANA_pleasant_weather  \\\n",
       "0                        0                           0   \n",
       "1                        0                           0   \n",
       "2                        0                           0   \n",
       "3                        0                           0   \n",
       "4                        0                           0   \n",
       "\n",
       "   MAASTRICHT_pleasant_weather  MADRID_pleasant_weather  \\\n",
       "0                            0                        0   \n",
       "1                            0                        0   \n",
       "2                            0                        0   \n",
       "3                            0                        0   \n",
       "4                            0                        0   \n",
       "\n",
       "   MUNCHENB_pleasant_weather  OSLO_pleasant_weather  \\\n",
       "0                          0                      0   \n",
       "1                          0                      0   \n",
       "2                          0                      0   \n",
       "3                          0                      0   \n",
       "4                          0                      0   \n",
       "\n",
       "   SONNBLICK_pleasant_weather  STOCKHOLM_pleasant_weather  \\\n",
       "0                           0                           0   \n",
       "1                           0                           0   \n",
       "2                           0                           0   \n",
       "3                           0                           0   \n",
       "4                           0                           0   \n",
       "\n",
       "   VALENTIA_pleasant_weather  \n",
       "0                          0  \n",
       "1                          0  \n",
       "2                          0  \n",
       "3                          0  \n",
       "4                          0  "
      ]
     },
     "execution_count": 8,
     "metadata": {},
     "output_type": "execute_result"
    }
   ],
   "source": [
    "df1.head()"
   ]
  },
  {
   "cell_type": "code",
   "execution_count": 9,
   "id": "a364c2e5-e3d8-4d99-a0da-6e7027965607",
   "metadata": {},
   "outputs": [
    {
     "data": {
      "text/plain": [
       "(22950, 16)"
      ]
     },
     "execution_count": 9,
     "metadata": {},
     "output_type": "execute_result"
    }
   ],
   "source": [
    "df1.shape"
   ]
  },
  {
   "cell_type": "markdown",
   "id": "e80393ef-f0a7-4712-a2f8-b4774373a67c",
   "metadata": {},
   "source": [
    "# 2. Data Wrangling\n",
    "This is to ensure data is structured with correct shape to feed the deep learning model: \n",
    "The following tasks will be perform.\n",
    "\n",
    "a. Drop 3 weather stations not included in answers.\n",
    "\n",
    "b. Remove 2 types of observations (columns) missing multiple entries for most stations.\n",
    "\n",
    "c. Fill in 3 individual observations assuming nearby stations have similar weather.\n",
    "\n",
    "d. Drop DATE and MONTH from observations and DATE from predictions data set.\n",
    "\n",
    "e. Export dataset as \"Cleaned\" version. X shape should be (22950, 135) and y shape should be (22950, 15)."
   ]
  },
  {
   "cell_type": "code",
   "execution_count": 10,
   "id": "20f16b0a-c43b-4406-9331-c022bc79d3f3",
   "metadata": {},
   "outputs": [],
   "source": [
    "# Drop the columns related to Tours, Gdansk and Rome from the unscaled dataset\n",
    "\n",
    "df = df.drop(['GDANSK_cloud_cover', 'GDANSK_humidity', 'GDANSK_precipitation', 'GDANSK_snow_depth', 'GDANSK_temp_mean', 'GDANSK_temp_min', 'GDANSK_temp_max',\n",
    "                        'ROMA_cloud_cover', 'ROMA_wind_speed', 'ROMA_humidity', 'ROMA_pressure', 'ROMA_sunshine', 'ROMA_temp_mean',\n",
    "                        'TOURS_wind_speed', 'TOURS_humidity', 'TOURS_pressure', 'TOURS_global_radiation', 'TOURS_precipitation', 'TOURS_temp_mean', 'TOURS_temp_min', 'TOURS_temp_max'], axis=1)"
   ]
  },
  {
   "cell_type": "code",
   "execution_count": 11,
   "id": "1823b000-3baa-4de2-a8d6-3e573c5b83fe",
   "metadata": {},
   "outputs": [
    {
     "data": {
      "text/plain": [
       "(22950, 149)"
      ]
     },
     "execution_count": 11,
     "metadata": {},
     "output_type": "execute_result"
    }
   ],
   "source": [
    "df.shape"
   ]
  },
  {
   "cell_type": "code",
   "execution_count": 12,
   "id": "a712bf23-c3ca-4de4-9500-3f87999a6a19",
   "metadata": {},
   "outputs": [],
   "source": [
    "# Extract the different observation(obs) types\n",
    "\n",
    "obs_types = ['cloud_cover', 'wind_speed', 'humidity', 'pressure',\n",
    "                     'global_radiation', 'precipitation', 'snow_depth', \n",
    "                     'sunshine', 'temp_mean', 'temp_min', 'temp_max']"
   ]
  },
  {
   "cell_type": "code",
   "execution_count": 15,
   "id": "c68d69f3-c41e-4486-8ff6-a683ec54dc5e",
   "metadata": {},
   "outputs": [
    {
     "name": "stdout",
     "output_type": "stream",
     "text": [
      "Number of stations covered by each observation type:\n",
      "cloud_cover: 14 stations\n",
      "wind_speed: 9 stations\n",
      "humidity: 14 stations\n",
      "pressure: 14 stations\n",
      "global_radiation: 15 stations\n",
      "precipitation: 15 stations\n",
      "snow_depth: 6 stations\n",
      "sunshine: 15 stations\n",
      "temp_mean: 15 stations\n",
      "temp_min: 15 stations\n",
      "temp_max: 15 stations\n"
     ]
    }
   ],
   "source": [
    "# Create a dictionary to store the count of stations for each observation type\n",
    "station_counts = {}\n",
    "\n",
    "for obs in obs_types:\n",
    "    # Select columns related to the current observation type\n",
    "    columns = [col for col in df.columns if col.endswith(obs)]\n",
    "    \n",
    "    # Count the number of stations (i.e., the number of columns) for the current observation type\n",
    "    station_counts[obs] = len(columns)\n",
    "\n",
    "# Print the count of stations for each observation type\n",
    "print(\"Number of stations covered by each observation type:\")\n",
    "for obs, count in station_counts.items():\n",
    "    print(f\"{obs}: {count} stations\")"
   ]
  },
  {
   "cell_type": "markdown",
   "id": "15fe365d-6c42-4a4f-84bc-1e1f8047bdc9",
   "metadata": {},
   "source": [
    "Note: The two columns missing multiple entries for most stations are: wind_speed (only 9 stations) and snow_depth (only 6 stations)."
   ]
  },
  {
   "cell_type": "code",
   "execution_count": 18,
   "id": "4816e261-6694-4eaa-983a-01a13f34f9e2",
   "metadata": {},
   "outputs": [
    {
     "data": {
      "text/plain": [
       "Index(['BASEL_wind_speed', 'BASEL_snow_depth', 'DEBILT_wind_speed',\n",
       "       'DUSSELDORF_wind_speed', 'DUSSELDORF_snow_depth', 'HEATHROW_snow_depth',\n",
       "       'KASSEL_wind_speed', 'LJUBLJANA_wind_speed', 'MAASTRICHT_wind_speed',\n",
       "       'MADRID_wind_speed', 'MUNCHENB_snow_depth', 'OSLO_wind_speed',\n",
       "       'OSLO_snow_depth', 'SONNBLICK_wind_speed', 'VALENTIA_snow_depth'],\n",
       "      dtype='object')"
      ]
     },
     "execution_count": 18,
     "metadata": {},
     "output_type": "execute_result"
    }
   ],
   "source": [
    "# Drop columns that end with wind_speed and snow_depth from the dataset\n",
    "\n",
    "columns_to_drop = df.filter(regex='(_wind_speed|_snow_depth)$').columns\n",
    "columns_to_drop"
   ]
  },
  {
   "cell_type": "code",
   "execution_count": 19,
   "id": "257f8e2d-daf0-4a6c-b450-7b75fa87b2f0",
   "metadata": {},
   "outputs": [],
   "source": [
    "df = df.drop(columns=columns_to_drop)"
   ]
  },
  {
   "cell_type": "code",
   "execution_count": 20,
   "id": "d2a3587a-572e-4b75-8f84-0059887f2737",
   "metadata": {},
   "outputs": [
    {
     "data": {
      "text/plain": [
       "(22950, 134)"
      ]
     },
     "execution_count": 20,
     "metadata": {},
     "output_type": "execute_result"
    }
   ],
   "source": [
    "df.shape"
   ]
  },
  {
   "cell_type": "markdown",
   "id": "80975742-079d-4e74-9446-37db91eb2412",
   "metadata": {},
   "source": [
    "There is 1 missing entry for each the following observations: cloud_cover, humidity, and pressure. Let's find which specific stations are missing."
   ]
  },
  {
   "cell_type": "code",
   "execution_count": 21,
   "id": "80e09c12-7cba-4a1c-9596-da831848aa58",
   "metadata": {},
   "outputs": [
    {
     "data": {
      "text/plain": [
       "{'BASEL',\n",
       " 'BELGRADE',\n",
       " 'BUDAPEST',\n",
       " 'DEBILT',\n",
       " 'DUSSELDORF',\n",
       " 'HEATHROW',\n",
       " 'KASSEL',\n",
       " 'LJUBLJANA',\n",
       " 'MAASTRICHT',\n",
       " 'MADRID',\n",
       " 'MUNCHENB',\n",
       " 'OSLO',\n",
       " 'SONNBLICK',\n",
       " 'STOCKHOLM',\n",
       " 'VALENTIA'}"
      ]
     },
     "execution_count": 21,
     "metadata": {},
     "output_type": "execute_result"
    }
   ],
   "source": [
    "# Create a list of all unique station names in the dataset\n",
    "\n",
    "all_stations = set([col.split('_')[0] for col in df.columns if '_' in col])\n",
    "all_stations"
   ]
  },
  {
   "cell_type": "code",
   "execution_count": 22,
   "id": "0bdce798-8918-4a55-b2c1-b1986399a02e",
   "metadata": {},
   "outputs": [
    {
     "name": "stdout",
     "output_type": "stream",
     "text": [
      "\n",
      "Stations missing from cloud_cover:\n",
      "KASSEL\n",
      "\n",
      "Stations missing from humidity:\n",
      "STOCKHOLM\n",
      "\n",
      "Stations missing from pressure:\n",
      "MUNCHENB\n"
     ]
    }
   ],
   "source": [
    "obs_types = ['cloud_cover', 'humidity', 'pressure']\n",
    "\n",
    "missing_stations_by_observation = {}\n",
    "\n",
    "for obs in obs_types:\n",
    "    # Select columns related to the current observation type\n",
    "    columns = [col for col in df.columns if col.endswith(obs)]\n",
    "    \n",
    "    # Extract station names by removing the observation type from the column names\n",
    "    station_names = set([col.replace(f'_{obs}', '') for col in columns])\n",
    "    \n",
    "    # Identify stations that are in all_stations but missing from the current observation type\n",
    "    missing_stations = all_stations - station_names\n",
    "    \n",
    "    # Store the missing station names in the dictionary\n",
    "    missing_stations_by_observation[obs] = missing_stations\n",
    "\n",
    "# Print the missing station names for each observation type\n",
    "for obs, missing_stations in missing_stations_by_observation.items():\n",
    "    print(f\"\\nStations missing from {obs}:\")\n",
    "    if missing_stations:\n",
    "        for station in missing_stations:\n",
    "            print(station)\n",
    "    else:\n",
    "        print(\"None\")"
   ]
  },
  {
   "cell_type": "code",
   "execution_count": 23,
   "id": "04140ecd-3d41-43b0-9d18-8a56e91860d9",
   "metadata": {},
   "outputs": [
    {
     "data": {
      "text/plain": [
       "55"
      ]
     },
     "execution_count": 23,
     "metadata": {},
     "output_type": "execute_result"
    }
   ],
   "source": [
    "# Get the position of HEATHROW_temp_max to see where we need to position the new KASSEL_cloud_cover  (+1 next to it)\n",
    "\n",
    "df.columns.get_loc('HEATHROW_temp_max')"
   ]
  },
  {
   "cell_type": "code",
   "execution_count": 24,
   "id": "4d249296-e26a-4a4a-ae9d-ab72a2220331",
   "metadata": {},
   "outputs": [
    {
     "data": {
      "text/plain": [
       "117"
      ]
     },
     "execution_count": 24,
     "metadata": {},
     "output_type": "execute_result"
    }
   ],
   "source": [
    "df.columns.get_loc('STOCKHOLM_cloud_cover') # +2"
   ]
  },
  {
   "cell_type": "code",
   "execution_count": 25,
   "id": "ea671e6c-f63f-4d02-bb2a-78b77fee7100",
   "metadata": {},
   "outputs": [
    {
     "data": {
      "text/plain": [
       "92"
      ]
     },
     "execution_count": 25,
     "metadata": {},
     "output_type": "execute_result"
    }
   ],
   "source": [
    "df.columns.get_loc('MUNCHENB_humidity') # +2"
   ]
  },
  {
   "cell_type": "code",
   "execution_count": 26,
   "id": "00421048-218a-4ace-92c0-1f6893b39713",
   "metadata": {},
   "outputs": [],
   "source": [
    "# Insert new columns into \"unscaled\" at specific positions.\n",
    "# The data for these new columns is copied from other existing columns:\n",
    "# Kassel_cloud_cover with Dusseldorf_cloud_cover\n",
    "# Stockholm_humidity with Oslo_humidity\n",
    "# Munchenb_pressure with Basel_pressure\n",
    "\n",
    "df.insert(56,'KASSEL_cloud_cover', df['DUSSELDORF_cloud_cover'])\n",
    "df.insert(119, 'STOCKHOLM_humidity', df['OSLO_humidity'])\n",
    "df.insert(94,'MUNCHENB_pressure',df['BASEL_pressure'])"
   ]
  },
  {
   "cell_type": "code",
   "execution_count": 27,
   "id": "7630decd-e64f-4ddf-b7f5-6980286cb369",
   "metadata": {},
   "outputs": [
    {
     "data": {
      "text/plain": [
       "['DATE',\n",
       " 'MONTH',\n",
       " 'BASEL_cloud_cover',\n",
       " 'BASEL_humidity',\n",
       " 'BASEL_pressure',\n",
       " 'BASEL_global_radiation',\n",
       " 'BASEL_precipitation',\n",
       " 'BASEL_sunshine',\n",
       " 'BASEL_temp_mean',\n",
       " 'BASEL_temp_min',\n",
       " 'BASEL_temp_max',\n",
       " 'BELGRADE_cloud_cover',\n",
       " 'BELGRADE_humidity',\n",
       " 'BELGRADE_pressure',\n",
       " 'BELGRADE_global_radiation',\n",
       " 'BELGRADE_precipitation',\n",
       " 'BELGRADE_sunshine',\n",
       " 'BELGRADE_temp_mean',\n",
       " 'BELGRADE_temp_min',\n",
       " 'BELGRADE_temp_max',\n",
       " 'BUDAPEST_cloud_cover',\n",
       " 'BUDAPEST_humidity',\n",
       " 'BUDAPEST_pressure',\n",
       " 'BUDAPEST_global_radiation',\n",
       " 'BUDAPEST_precipitation',\n",
       " 'BUDAPEST_sunshine',\n",
       " 'BUDAPEST_temp_mean',\n",
       " 'BUDAPEST_temp_min',\n",
       " 'BUDAPEST_temp_max',\n",
       " 'DEBILT_cloud_cover',\n",
       " 'DEBILT_humidity',\n",
       " 'DEBILT_pressure',\n",
       " 'DEBILT_global_radiation',\n",
       " 'DEBILT_precipitation',\n",
       " 'DEBILT_sunshine',\n",
       " 'DEBILT_temp_mean',\n",
       " 'DEBILT_temp_min',\n",
       " 'DEBILT_temp_max',\n",
       " 'DUSSELDORF_cloud_cover',\n",
       " 'DUSSELDORF_humidity',\n",
       " 'DUSSELDORF_pressure',\n",
       " 'DUSSELDORF_global_radiation',\n",
       " 'DUSSELDORF_precipitation',\n",
       " 'DUSSELDORF_sunshine',\n",
       " 'DUSSELDORF_temp_mean',\n",
       " 'DUSSELDORF_temp_min',\n",
       " 'DUSSELDORF_temp_max',\n",
       " 'HEATHROW_cloud_cover',\n",
       " 'HEATHROW_humidity',\n",
       " 'HEATHROW_pressure',\n",
       " 'HEATHROW_global_radiation',\n",
       " 'HEATHROW_precipitation',\n",
       " 'HEATHROW_sunshine',\n",
       " 'HEATHROW_temp_mean',\n",
       " 'HEATHROW_temp_min',\n",
       " 'HEATHROW_temp_max',\n",
       " 'KASSEL_cloud_cover',\n",
       " 'KASSEL_humidity',\n",
       " 'KASSEL_pressure',\n",
       " 'KASSEL_global_radiation',\n",
       " 'KASSEL_precipitation',\n",
       " 'KASSEL_sunshine',\n",
       " 'KASSEL_temp_mean',\n",
       " 'KASSEL_temp_min',\n",
       " 'KASSEL_temp_max',\n",
       " 'LJUBLJANA_cloud_cover',\n",
       " 'LJUBLJANA_humidity',\n",
       " 'LJUBLJANA_pressure',\n",
       " 'LJUBLJANA_global_radiation',\n",
       " 'LJUBLJANA_precipitation',\n",
       " 'LJUBLJANA_sunshine',\n",
       " 'LJUBLJANA_temp_mean',\n",
       " 'LJUBLJANA_temp_min',\n",
       " 'LJUBLJANA_temp_max',\n",
       " 'MAASTRICHT_cloud_cover',\n",
       " 'MAASTRICHT_humidity',\n",
       " 'MAASTRICHT_pressure',\n",
       " 'MAASTRICHT_global_radiation',\n",
       " 'MAASTRICHT_precipitation',\n",
       " 'MAASTRICHT_sunshine',\n",
       " 'MAASTRICHT_temp_mean',\n",
       " 'MAASTRICHT_temp_min',\n",
       " 'MAASTRICHT_temp_max',\n",
       " 'MADRID_cloud_cover',\n",
       " 'MADRID_humidity',\n",
       " 'MADRID_pressure',\n",
       " 'MADRID_global_radiation',\n",
       " 'MADRID_precipitation',\n",
       " 'MADRID_sunshine',\n",
       " 'MADRID_temp_mean',\n",
       " 'MADRID_temp_min',\n",
       " 'MADRID_temp_max',\n",
       " 'MUNCHENB_cloud_cover',\n",
       " 'MUNCHENB_humidity',\n",
       " 'MUNCHENB_pressure',\n",
       " 'MUNCHENB_global_radiation',\n",
       " 'MUNCHENB_precipitation',\n",
       " 'MUNCHENB_sunshine',\n",
       " 'MUNCHENB_temp_mean',\n",
       " 'MUNCHENB_temp_min',\n",
       " 'MUNCHENB_temp_max',\n",
       " 'OSLO_cloud_cover',\n",
       " 'OSLO_humidity',\n",
       " 'OSLO_pressure',\n",
       " 'OSLO_global_radiation',\n",
       " 'OSLO_precipitation',\n",
       " 'OSLO_sunshine',\n",
       " 'OSLO_temp_mean',\n",
       " 'OSLO_temp_min',\n",
       " 'OSLO_temp_max',\n",
       " 'SONNBLICK_cloud_cover',\n",
       " 'SONNBLICK_humidity',\n",
       " 'SONNBLICK_pressure',\n",
       " 'SONNBLICK_global_radiation',\n",
       " 'SONNBLICK_precipitation',\n",
       " 'SONNBLICK_sunshine',\n",
       " 'SONNBLICK_temp_mean',\n",
       " 'SONNBLICK_temp_min',\n",
       " 'SONNBLICK_temp_max',\n",
       " 'STOCKHOLM_cloud_cover',\n",
       " 'STOCKHOLM_humidity',\n",
       " 'STOCKHOLM_pressure',\n",
       " 'STOCKHOLM_global_radiation',\n",
       " 'STOCKHOLM_precipitation',\n",
       " 'STOCKHOLM_sunshine',\n",
       " 'STOCKHOLM_temp_mean',\n",
       " 'STOCKHOLM_temp_min',\n",
       " 'STOCKHOLM_temp_max',\n",
       " 'VALENTIA_cloud_cover',\n",
       " 'VALENTIA_humidity',\n",
       " 'VALENTIA_pressure',\n",
       " 'VALENTIA_global_radiation',\n",
       " 'VALENTIA_precipitation',\n",
       " 'VALENTIA_sunshine',\n",
       " 'VALENTIA_temp_mean',\n",
       " 'VALENTIA_temp_min',\n",
       " 'VALENTIA_temp_max']"
      ]
     },
     "execution_count": 27,
     "metadata": {},
     "output_type": "execute_result"
    }
   ],
   "source": [
    "df.columns.tolist()"
   ]
  },
  {
   "cell_type": "code",
   "execution_count": 28,
   "id": "9cb6819f-231f-4f0c-b448-1a4213e43f89",
   "metadata": {},
   "outputs": [],
   "source": [
    "# Drop unnecessary columns\n",
    "\n",
    "df.drop(['DATE', 'MONTH'], axis=1, inplace=True)"
   ]
  },
  {
   "cell_type": "code",
   "execution_count": 29,
   "id": "fc97f390-7c1c-4e30-8c30-c9b9f222f0de",
   "metadata": {},
   "outputs": [
    {
     "data": {
      "text/plain": [
       "(22950, 135)"
      ]
     },
     "execution_count": 29,
     "metadata": {},
     "output_type": "execute_result"
    }
   ],
   "source": [
    "df.shape # observations dataset has the correct shape"
   ]
  },
  {
   "cell_type": "code",
   "execution_count": 31,
   "id": "2c3d6792-2991-4211-a57a-789e7f6b5f26",
   "metadata": {},
   "outputs": [],
   "source": [
    "df1.drop(columns = 'DATE', inplace = True)"
   ]
  },
  {
   "cell_type": "code",
   "execution_count": 32,
   "id": "9e903789-2735-4206-81da-d922e3ee9385",
   "metadata": {},
   "outputs": [
    {
     "data": {
      "text/plain": [
       "(22950, 15)"
      ]
     },
     "execution_count": 32,
     "metadata": {},
     "output_type": "execute_result"
    }
   ],
   "source": [
    "df1.shape # predictions dataset has the correct shape"
   ]
  },
  {
   "cell_type": "code",
   "execution_count": 37,
   "id": "a2ad04ec-8501-4b35-9f3f-30919496ffed",
   "metadata": {},
   "outputs": [],
   "source": [
    "# Export cleaned dataset\n",
    "\n",
    "df.to_csv(os.path.join(path, 'Original Data X_cleaned.csv'), index=False)"
   ]
  },
  {
   "cell_type": "markdown",
   "id": "c3b92b68-e019-4fb1-b457-7f7a3a98842b",
   "metadata": {},
   "source": [
    "# 3. Reshaping for modeling\n",
    "a. To ensure the layers can be fed to the deep learning model correctly.\n",
    "    \n",
    "b. Split the observations (X) into 15 groups of 9 types of observations.\n",
    "c. Labels (y) should also be in 15 groups (it doesn’t need to be transformed or reshaped).\n",
    "\n",
    "d. The final shapes should be X = (22950, 15, 9) and y = (22950, 15)."
   ]
  },
  {
   "cell_type": "code",
   "execution_count": 42,
   "id": "59c401b5-c3f5-4d56-bad0-412dbe32fceb",
   "metadata": {},
   "outputs": [],
   "source": [
    "x = pd.read_csv(os.path.join(path, 'Original Data X_cleaned.csv'))"
   ]
  },
  {
   "cell_type": "code",
   "execution_count": 43,
   "id": "0babd56c-4660-49a7-b14a-1ea9c39a0b12",
   "metadata": {},
   "outputs": [
    {
     "data": {
      "text/html": [
       "<div>\n",
       "<style scoped>\n",
       "    .dataframe tbody tr th:only-of-type {\n",
       "        vertical-align: middle;\n",
       "    }\n",
       "\n",
       "    .dataframe tbody tr th {\n",
       "        vertical-align: top;\n",
       "    }\n",
       "\n",
       "    .dataframe thead th {\n",
       "        text-align: right;\n",
       "    }\n",
       "</style>\n",
       "<table border=\"1\" class=\"dataframe\">\n",
       "  <thead>\n",
       "    <tr style=\"text-align: right;\">\n",
       "      <th></th>\n",
       "      <th>BASEL_cloud_cover</th>\n",
       "      <th>BASEL_humidity</th>\n",
       "      <th>BASEL_pressure</th>\n",
       "      <th>BASEL_global_radiation</th>\n",
       "      <th>BASEL_precipitation</th>\n",
       "      <th>BASEL_sunshine</th>\n",
       "      <th>BASEL_temp_mean</th>\n",
       "      <th>BASEL_temp_min</th>\n",
       "      <th>BASEL_temp_max</th>\n",
       "      <th>BELGRADE_cloud_cover</th>\n",
       "      <th>...</th>\n",
       "      <th>STOCKHOLM_temp_max</th>\n",
       "      <th>VALENTIA_cloud_cover</th>\n",
       "      <th>VALENTIA_humidity</th>\n",
       "      <th>VALENTIA_pressure</th>\n",
       "      <th>VALENTIA_global_radiation</th>\n",
       "      <th>VALENTIA_precipitation</th>\n",
       "      <th>VALENTIA_sunshine</th>\n",
       "      <th>VALENTIA_temp_mean</th>\n",
       "      <th>VALENTIA_temp_min</th>\n",
       "      <th>VALENTIA_temp_max</th>\n",
       "    </tr>\n",
       "  </thead>\n",
       "  <tbody>\n",
       "    <tr>\n",
       "      <th>0</th>\n",
       "      <td>7</td>\n",
       "      <td>0.85</td>\n",
       "      <td>1.0180</td>\n",
       "      <td>0.32</td>\n",
       "      <td>0.09</td>\n",
       "      <td>0.7</td>\n",
       "      <td>6.5</td>\n",
       "      <td>0.8</td>\n",
       "      <td>10.9</td>\n",
       "      <td>1</td>\n",
       "      <td>...</td>\n",
       "      <td>4.9</td>\n",
       "      <td>5</td>\n",
       "      <td>0.88</td>\n",
       "      <td>1.0003</td>\n",
       "      <td>0.45</td>\n",
       "      <td>0.34</td>\n",
       "      <td>4.7</td>\n",
       "      <td>8.5</td>\n",
       "      <td>6.0</td>\n",
       "      <td>10.9</td>\n",
       "    </tr>\n",
       "    <tr>\n",
       "      <th>1</th>\n",
       "      <td>6</td>\n",
       "      <td>0.84</td>\n",
       "      <td>1.0180</td>\n",
       "      <td>0.36</td>\n",
       "      <td>1.05</td>\n",
       "      <td>1.1</td>\n",
       "      <td>6.1</td>\n",
       "      <td>3.3</td>\n",
       "      <td>10.1</td>\n",
       "      <td>6</td>\n",
       "      <td>...</td>\n",
       "      <td>5.0</td>\n",
       "      <td>7</td>\n",
       "      <td>0.91</td>\n",
       "      <td>1.0007</td>\n",
       "      <td>0.25</td>\n",
       "      <td>0.84</td>\n",
       "      <td>0.7</td>\n",
       "      <td>8.9</td>\n",
       "      <td>5.6</td>\n",
       "      <td>12.1</td>\n",
       "    </tr>\n",
       "    <tr>\n",
       "      <th>2</th>\n",
       "      <td>8</td>\n",
       "      <td>0.90</td>\n",
       "      <td>1.0180</td>\n",
       "      <td>0.18</td>\n",
       "      <td>0.30</td>\n",
       "      <td>0.0</td>\n",
       "      <td>8.5</td>\n",
       "      <td>5.1</td>\n",
       "      <td>9.9</td>\n",
       "      <td>6</td>\n",
       "      <td>...</td>\n",
       "      <td>4.1</td>\n",
       "      <td>7</td>\n",
       "      <td>0.91</td>\n",
       "      <td>1.0096</td>\n",
       "      <td>0.17</td>\n",
       "      <td>0.08</td>\n",
       "      <td>0.1</td>\n",
       "      <td>10.5</td>\n",
       "      <td>8.1</td>\n",
       "      <td>12.9</td>\n",
       "    </tr>\n",
       "    <tr>\n",
       "      <th>3</th>\n",
       "      <td>3</td>\n",
       "      <td>0.92</td>\n",
       "      <td>1.0180</td>\n",
       "      <td>0.58</td>\n",
       "      <td>0.00</td>\n",
       "      <td>4.1</td>\n",
       "      <td>6.3</td>\n",
       "      <td>3.8</td>\n",
       "      <td>10.6</td>\n",
       "      <td>8</td>\n",
       "      <td>...</td>\n",
       "      <td>2.3</td>\n",
       "      <td>7</td>\n",
       "      <td>0.86</td>\n",
       "      <td>1.0184</td>\n",
       "      <td>0.13</td>\n",
       "      <td>0.98</td>\n",
       "      <td>0.0</td>\n",
       "      <td>7.4</td>\n",
       "      <td>7.3</td>\n",
       "      <td>10.6</td>\n",
       "    </tr>\n",
       "    <tr>\n",
       "      <th>4</th>\n",
       "      <td>6</td>\n",
       "      <td>0.95</td>\n",
       "      <td>1.0180</td>\n",
       "      <td>0.65</td>\n",
       "      <td>0.14</td>\n",
       "      <td>5.4</td>\n",
       "      <td>3.0</td>\n",
       "      <td>-0.7</td>\n",
       "      <td>6.0</td>\n",
       "      <td>8</td>\n",
       "      <td>...</td>\n",
       "      <td>4.3</td>\n",
       "      <td>3</td>\n",
       "      <td>0.80</td>\n",
       "      <td>1.0328</td>\n",
       "      <td>0.46</td>\n",
       "      <td>0.00</td>\n",
       "      <td>5.7</td>\n",
       "      <td>5.7</td>\n",
       "      <td>3.0</td>\n",
       "      <td>8.4</td>\n",
       "    </tr>\n",
       "    <tr>\n",
       "      <th>...</th>\n",
       "      <td>...</td>\n",
       "      <td>...</td>\n",
       "      <td>...</td>\n",
       "      <td>...</td>\n",
       "      <td>...</td>\n",
       "      <td>...</td>\n",
       "      <td>...</td>\n",
       "      <td>...</td>\n",
       "      <td>...</td>\n",
       "      <td>...</td>\n",
       "      <td>...</td>\n",
       "      <td>...</td>\n",
       "      <td>...</td>\n",
       "      <td>...</td>\n",
       "      <td>...</td>\n",
       "      <td>...</td>\n",
       "      <td>...</td>\n",
       "      <td>...</td>\n",
       "      <td>...</td>\n",
       "      <td>...</td>\n",
       "      <td>...</td>\n",
       "    </tr>\n",
       "    <tr>\n",
       "      <th>22945</th>\n",
       "      <td>1</td>\n",
       "      <td>0.79</td>\n",
       "      <td>1.0248</td>\n",
       "      <td>1.34</td>\n",
       "      <td>0.22</td>\n",
       "      <td>7.7</td>\n",
       "      <td>15.9</td>\n",
       "      <td>11.4</td>\n",
       "      <td>21.4</td>\n",
       "      <td>2</td>\n",
       "      <td>...</td>\n",
       "      <td>14.2</td>\n",
       "      <td>5</td>\n",
       "      <td>0.82</td>\n",
       "      <td>1.0142</td>\n",
       "      <td>1.13</td>\n",
       "      <td>0.41</td>\n",
       "      <td>3.4</td>\n",
       "      <td>10.7</td>\n",
       "      <td>7.9</td>\n",
       "      <td>13.5</td>\n",
       "    </tr>\n",
       "    <tr>\n",
       "      <th>22946</th>\n",
       "      <td>6</td>\n",
       "      <td>0.77</td>\n",
       "      <td>1.0244</td>\n",
       "      <td>1.34</td>\n",
       "      <td>0.22</td>\n",
       "      <td>5.4</td>\n",
       "      <td>16.7</td>\n",
       "      <td>14.3</td>\n",
       "      <td>21.9</td>\n",
       "      <td>0</td>\n",
       "      <td>...</td>\n",
       "      <td>14.3</td>\n",
       "      <td>5</td>\n",
       "      <td>0.82</td>\n",
       "      <td>1.0142</td>\n",
       "      <td>1.13</td>\n",
       "      <td>0.41</td>\n",
       "      <td>3.4</td>\n",
       "      <td>10.7</td>\n",
       "      <td>7.9</td>\n",
       "      <td>13.5</td>\n",
       "    </tr>\n",
       "    <tr>\n",
       "      <th>22947</th>\n",
       "      <td>4</td>\n",
       "      <td>0.76</td>\n",
       "      <td>1.0227</td>\n",
       "      <td>1.34</td>\n",
       "      <td>0.22</td>\n",
       "      <td>6.1</td>\n",
       "      <td>16.7</td>\n",
       "      <td>13.1</td>\n",
       "      <td>22.4</td>\n",
       "      <td>2</td>\n",
       "      <td>...</td>\n",
       "      <td>14.4</td>\n",
       "      <td>5</td>\n",
       "      <td>0.82</td>\n",
       "      <td>1.0142</td>\n",
       "      <td>1.13</td>\n",
       "      <td>0.41</td>\n",
       "      <td>3.4</td>\n",
       "      <td>10.7</td>\n",
       "      <td>7.9</td>\n",
       "      <td>13.5</td>\n",
       "    </tr>\n",
       "    <tr>\n",
       "      <th>22948</th>\n",
       "      <td>5</td>\n",
       "      <td>0.80</td>\n",
       "      <td>1.0212</td>\n",
       "      <td>1.34</td>\n",
       "      <td>0.22</td>\n",
       "      <td>5.8</td>\n",
       "      <td>15.4</td>\n",
       "      <td>11.6</td>\n",
       "      <td>21.1</td>\n",
       "      <td>1</td>\n",
       "      <td>...</td>\n",
       "      <td>12.4</td>\n",
       "      <td>5</td>\n",
       "      <td>0.82</td>\n",
       "      <td>1.0142</td>\n",
       "      <td>1.13</td>\n",
       "      <td>0.41</td>\n",
       "      <td>3.4</td>\n",
       "      <td>10.7</td>\n",
       "      <td>7.9</td>\n",
       "      <td>13.5</td>\n",
       "    </tr>\n",
       "    <tr>\n",
       "      <th>22949</th>\n",
       "      <td>5</td>\n",
       "      <td>0.84</td>\n",
       "      <td>1.0193</td>\n",
       "      <td>1.34</td>\n",
       "      <td>0.22</td>\n",
       "      <td>3.2</td>\n",
       "      <td>13.5</td>\n",
       "      <td>9.9</td>\n",
       "      <td>19.2</td>\n",
       "      <td>4</td>\n",
       "      <td>...</td>\n",
       "      <td>12.6</td>\n",
       "      <td>5</td>\n",
       "      <td>0.82</td>\n",
       "      <td>1.0142</td>\n",
       "      <td>1.13</td>\n",
       "      <td>0.41</td>\n",
       "      <td>3.4</td>\n",
       "      <td>10.7</td>\n",
       "      <td>7.9</td>\n",
       "      <td>13.5</td>\n",
       "    </tr>\n",
       "  </tbody>\n",
       "</table>\n",
       "<p>22950 rows × 135 columns</p>\n",
       "</div>"
      ],
      "text/plain": [
       "       BASEL_cloud_cover  BASEL_humidity  BASEL_pressure  \\\n",
       "0                      7            0.85          1.0180   \n",
       "1                      6            0.84          1.0180   \n",
       "2                      8            0.90          1.0180   \n",
       "3                      3            0.92          1.0180   \n",
       "4                      6            0.95          1.0180   \n",
       "...                  ...             ...             ...   \n",
       "22945                  1            0.79          1.0248   \n",
       "22946                  6            0.77          1.0244   \n",
       "22947                  4            0.76          1.0227   \n",
       "22948                  5            0.80          1.0212   \n",
       "22949                  5            0.84          1.0193   \n",
       "\n",
       "       BASEL_global_radiation  BASEL_precipitation  BASEL_sunshine  \\\n",
       "0                        0.32                 0.09             0.7   \n",
       "1                        0.36                 1.05             1.1   \n",
       "2                        0.18                 0.30             0.0   \n",
       "3                        0.58                 0.00             4.1   \n",
       "4                        0.65                 0.14             5.4   \n",
       "...                       ...                  ...             ...   \n",
       "22945                    1.34                 0.22             7.7   \n",
       "22946                    1.34                 0.22             5.4   \n",
       "22947                    1.34                 0.22             6.1   \n",
       "22948                    1.34                 0.22             5.8   \n",
       "22949                    1.34                 0.22             3.2   \n",
       "\n",
       "       BASEL_temp_mean  BASEL_temp_min  BASEL_temp_max  BELGRADE_cloud_cover  \\\n",
       "0                  6.5             0.8            10.9                     1   \n",
       "1                  6.1             3.3            10.1                     6   \n",
       "2                  8.5             5.1             9.9                     6   \n",
       "3                  6.3             3.8            10.6                     8   \n",
       "4                  3.0            -0.7             6.0                     8   \n",
       "...                ...             ...             ...                   ...   \n",
       "22945             15.9            11.4            21.4                     2   \n",
       "22946             16.7            14.3            21.9                     0   \n",
       "22947             16.7            13.1            22.4                     2   \n",
       "22948             15.4            11.6            21.1                     1   \n",
       "22949             13.5             9.9            19.2                     4   \n",
       "\n",
       "       ...  STOCKHOLM_temp_max  VALENTIA_cloud_cover  VALENTIA_humidity  \\\n",
       "0      ...                 4.9                     5               0.88   \n",
       "1      ...                 5.0                     7               0.91   \n",
       "2      ...                 4.1                     7               0.91   \n",
       "3      ...                 2.3                     7               0.86   \n",
       "4      ...                 4.3                     3               0.80   \n",
       "...    ...                 ...                   ...                ...   \n",
       "22945  ...                14.2                     5               0.82   \n",
       "22946  ...                14.3                     5               0.82   \n",
       "22947  ...                14.4                     5               0.82   \n",
       "22948  ...                12.4                     5               0.82   \n",
       "22949  ...                12.6                     5               0.82   \n",
       "\n",
       "       VALENTIA_pressure  VALENTIA_global_radiation  VALENTIA_precipitation  \\\n",
       "0                 1.0003                       0.45                    0.34   \n",
       "1                 1.0007                       0.25                    0.84   \n",
       "2                 1.0096                       0.17                    0.08   \n",
       "3                 1.0184                       0.13                    0.98   \n",
       "4                 1.0328                       0.46                    0.00   \n",
       "...                  ...                        ...                     ...   \n",
       "22945             1.0142                       1.13                    0.41   \n",
       "22946             1.0142                       1.13                    0.41   \n",
       "22947             1.0142                       1.13                    0.41   \n",
       "22948             1.0142                       1.13                    0.41   \n",
       "22949             1.0142                       1.13                    0.41   \n",
       "\n",
       "       VALENTIA_sunshine  VALENTIA_temp_mean  VALENTIA_temp_min  \\\n",
       "0                    4.7                 8.5                6.0   \n",
       "1                    0.7                 8.9                5.6   \n",
       "2                    0.1                10.5                8.1   \n",
       "3                    0.0                 7.4                7.3   \n",
       "4                    5.7                 5.7                3.0   \n",
       "...                  ...                 ...                ...   \n",
       "22945                3.4                10.7                7.9   \n",
       "22946                3.4                10.7                7.9   \n",
       "22947                3.4                10.7                7.9   \n",
       "22948                3.4                10.7                7.9   \n",
       "22949                3.4                10.7                7.9   \n",
       "\n",
       "       VALENTIA_temp_max  \n",
       "0                   10.9  \n",
       "1                   12.1  \n",
       "2                   12.9  \n",
       "3                   10.6  \n",
       "4                    8.4  \n",
       "...                  ...  \n",
       "22945               13.5  \n",
       "22946               13.5  \n",
       "22947               13.5  \n",
       "22948               13.5  \n",
       "22949               13.5  \n",
       "\n",
       "[22950 rows x 135 columns]"
      ]
     },
     "execution_count": 43,
     "metadata": {},
     "output_type": "execute_result"
    }
   ],
   "source": [
    "x"
   ]
  },
  {
   "cell_type": "code",
   "execution_count": 56,
   "id": "3e6d1829-996e-4f7d-be1f-8ca3a16a0d96",
   "metadata": {},
   "outputs": [],
   "source": [
    "y = df1"
   ]
  },
  {
   "cell_type": "code",
   "execution_count": 57,
   "id": "284c3149-7a6a-4bc3-9917-c2219e7090de",
   "metadata": {},
   "outputs": [
    {
     "data": {
      "text/plain": [
       "(22950, 135)"
      ]
     },
     "execution_count": 57,
     "metadata": {},
     "output_type": "execute_result"
    }
   ],
   "source": [
    "x.shape"
   ]
  },
  {
   "cell_type": "code",
   "execution_count": 58,
   "id": "206f02a7-07b1-4990-8a94-592436d989cc",
   "metadata": {},
   "outputs": [],
   "source": [
    "# Turn X and y from a df to arrays\n",
    "\n",
    "X = np.array(X)\n",
    "y = np.array(y)"
   ]
  },
  {
   "cell_type": "code",
   "execution_count": 59,
   "id": "18511621-aa0f-4021-81ac-30fed7045d25",
   "metadata": {},
   "outputs": [],
   "source": [
    "X = X.reshape(-1,15,9)"
   ]
  },
  {
   "cell_type": "code",
   "execution_count": 60,
   "id": "9c4ec7e3-3f6f-4383-8092-5f55e61c1e06",
   "metadata": {},
   "outputs": [
    {
     "data": {
      "text/plain": [
       "array([[[  7.    ,   0.85  ,   1.018 , ...,   6.5   ,   0.8   ,\n",
       "          10.9   ],\n",
       "        [  1.    ,   0.81  ,   1.0195, ...,   3.7   ,  -0.9   ,\n",
       "           7.9   ],\n",
       "        [  4.    ,   0.67  ,   1.017 , ...,   2.4   ,  -0.4   ,\n",
       "           5.1   ],\n",
       "        ...,\n",
       "        [  4.    ,   0.73  ,   1.0304, ...,  -5.9   ,  -8.5   ,\n",
       "          -3.2   ],\n",
       "        [  5.    ,   0.98  ,   1.0114, ...,   4.2   ,   2.2   ,\n",
       "           4.9   ],\n",
       "        [  5.    ,   0.88  ,   1.0003, ...,   8.5   ,   6.    ,\n",
       "          10.9   ]],\n",
       "\n",
       "       [[  6.    ,   0.84  ,   1.018 , ...,   6.1   ,   3.3   ,\n",
       "          10.1   ],\n",
       "        [  6.    ,   0.84  ,   1.0172, ...,   2.9   ,   2.2   ,\n",
       "           4.4   ],\n",
       "        [  4.    ,   0.67  ,   1.017 , ...,   2.3   ,   1.4   ,\n",
       "           3.1   ],\n",
       "        ...,\n",
       "        [  6.    ,   0.97  ,   1.0292, ...,  -9.5   , -10.5   ,\n",
       "          -8.5   ],\n",
       "        [  5.    ,   0.62  ,   1.0114, ...,   4.    ,   3.    ,\n",
       "           5.    ],\n",
       "        [  7.    ,   0.91  ,   1.0007, ...,   8.9   ,   5.6   ,\n",
       "          12.1   ]],\n",
       "\n",
       "       [[  8.    ,   0.9   ,   1.018 , ...,   8.5   ,   5.1   ,\n",
       "           9.9   ],\n",
       "        [  6.    ,   0.77  ,   1.0179, ...,   3.1   ,  -0.5   ,\n",
       "           6.4   ],\n",
       "        [  4.    ,   0.67  ,   1.017 , ...,   2.7   ,   1.7   ,\n",
       "           5.3   ],\n",
       "        ...,\n",
       "        [  8.    ,   0.93  ,   1.032 , ...,  -9.5   , -10.    ,\n",
       "          -8.9   ],\n",
       "        [  5.    ,   0.69  ,   1.0114, ...,   2.4   ,   1.3   ,\n",
       "           4.1   ],\n",
       "        [  7.    ,   0.91  ,   1.0096, ...,  10.5   ,   8.1   ,\n",
       "          12.9   ]],\n",
       "\n",
       "       ...,\n",
       "\n",
       "       [[  4.    ,   0.76  ,   1.0227, ...,  16.7   ,  13.1   ,\n",
       "          22.4   ],\n",
       "        [  2.    ,   0.68  ,   1.0278, ...,  13.4   ,   8.6   ,\n",
       "          18.2   ],\n",
       "        [  4.    ,   0.67  ,   1.017 , ...,  11.7   ,   7.9   ,\n",
       "          16.2   ],\n",
       "        ...,\n",
       "        [  3.    ,   0.84  ,   1.0263, ...,   3.3   ,   2.1   ,\n",
       "           4.5   ],\n",
       "        [  5.    ,   0.85  ,   1.0059, ...,  13.1   ,  12.1   ,\n",
       "          14.4   ],\n",
       "        [  5.    ,   0.82  ,   1.0142, ...,  10.7   ,   7.9   ,\n",
       "          13.5   ]],\n",
       "\n",
       "       [[  5.    ,   0.8   ,   1.0212, ...,  15.4   ,  11.6   ,\n",
       "          21.1   ],\n",
       "        [  1.    ,   0.68  ,   1.0238, ...,  15.    ,   9.1   ,\n",
       "          20.9   ],\n",
       "        [  4.    ,   0.67  ,   1.017 , ...,  11.7   ,   7.9   ,\n",
       "          16.2   ],\n",
       "        ...,\n",
       "        [  3.    ,   0.84  ,   1.0263, ...,   3.4   ,   2.7   ,\n",
       "           4.1   ],\n",
       "        [  5.    ,   0.94  ,   1.016 , ...,   7.5   ,   5.1   ,\n",
       "          12.4   ],\n",
       "        [  5.    ,   0.82  ,   1.0142, ...,  10.7   ,   7.9   ,\n",
       "          13.5   ]],\n",
       "\n",
       "       [[  5.    ,   0.84  ,   1.0193, ...,  13.5   ,   9.9   ,\n",
       "          19.2   ],\n",
       "        [  4.    ,   0.68  ,   1.0235, ...,  14.4   ,  10.4   ,\n",
       "          18.4   ],\n",
       "        [  4.    ,   0.67  ,   1.017 , ...,  11.7   ,   7.9   ,\n",
       "          16.2   ],\n",
       "        ...,\n",
       "        [  4.    ,   0.84  ,   1.0263, ...,   1.7   ,   0.7   ,\n",
       "           2.7   ],\n",
       "        [  5.    ,   0.97  ,   1.0164, ...,   9.7   ,   5.    ,\n",
       "          12.6   ],\n",
       "        [  5.    ,   0.82  ,   1.0142, ...,  10.7   ,   7.9   ,\n",
       "          13.5   ]]])"
      ]
     },
     "execution_count": 60,
     "metadata": {},
     "output_type": "execute_result"
    }
   ],
   "source": [
    "# Verify shape\n",
    "\n",
    "X"
   ]
  },
  {
   "cell_type": "markdown",
   "id": "446da7ce-9ad3-45c9-a42e-27af80f530f8",
   "metadata": {},
   "source": [
    "# 4. Data Split"
   ]
  },
  {
   "cell_type": "code",
   "execution_count": 61,
   "id": "5d12296c-9b07-4337-98f1-4709bde8533e",
   "metadata": {},
   "outputs": [],
   "source": [
    "# Split data into train and test sets\n",
    "\n",
    "X_train, X_test, y_train, y_test = train_test_split(X,y,random_state = 42)"
   ]
  },
  {
   "cell_type": "code",
   "execution_count": 62,
   "id": "3da09e1a-73ef-4bdc-be94-49a023c5b058",
   "metadata": {},
   "outputs": [
    {
     "name": "stdout",
     "output_type": "stream",
     "text": [
      "(17212, 15, 9) (17212, 15)\n",
      "(5738, 15, 9) (5738, 15)\n"
     ]
    }
   ],
   "source": [
    "print(X_train.shape, y_train.shape)\n",
    "print(X_test.shape, y_test.shape)"
   ]
  },
  {
   "cell_type": "markdown",
   "id": "b738397a-fc88-4dfc-a812-e55cc1e9eb50",
   "metadata": {},
   "source": [
    "# 5. Creating Keras Model"
   ]
  },
  {
   "cell_type": "code",
   "execution_count": 64,
   "id": "2c09f488-11bc-4c78-81c3-a7b78e6f3af1",
   "metadata": {},
   "outputs": [],
   "source": [
    "epochs = 30\n",
    "batch_size = 16\n",
    "n_hidden = 64\n",
    "\n",
    "timesteps = len(X_train[0])\n",
    "input_dim = len(X_train[0][0])\n",
    "n_classes = len(y_train[0])\n",
    "\n",
    "model = Sequential()\n",
    "model.add(Conv1D(n_hidden, kernel_size=2, activation='relu', input_shape=(timesteps, input_dim)))\n",
    "model.add(Dense(16, activation='relu'))\n",
    "model.add(MaxPooling1D())\n",
    "model.add(Flatten())\n",
    "model.add(Dense(n_classes, activation='softmax')) # Options: sigmoid, tanh, softmax, relu"
   ]
  },
  {
   "cell_type": "code",
   "execution_count": 65,
   "id": "ef6abd63-f91a-428a-ad2e-c255d9d8e315",
   "metadata": {},
   "outputs": [
    {
     "data": {
      "text/html": [
       "<pre style=\"white-space:pre;overflow-x:auto;line-height:normal;font-family:Menlo,'DejaVu Sans Mono',consolas,'Courier New',monospace\"><span style=\"font-weight: bold\">Model: \"sequential_1\"</span>\n",
       "</pre>\n"
      ],
      "text/plain": [
       "\u001b[1mModel: \"sequential_1\"\u001b[0m\n"
      ]
     },
     "metadata": {},
     "output_type": "display_data"
    },
    {
     "data": {
      "text/html": [
       "<pre style=\"white-space:pre;overflow-x:auto;line-height:normal;font-family:Menlo,'DejaVu Sans Mono',consolas,'Courier New',monospace\">┏━━━━━━━━━━━━━━━━━━━━━━━━━━━━━━━━━┳━━━━━━━━━━━━━━━━━━━━━━━━┳━━━━━━━━━━━━━━━┓\n",
       "┃<span style=\"font-weight: bold\"> Layer (type)                    </span>┃<span style=\"font-weight: bold\"> Output Shape           </span>┃<span style=\"font-weight: bold\">       Param # </span>┃\n",
       "┡━━━━━━━━━━━━━━━━━━━━━━━━━━━━━━━━━╇━━━━━━━━━━━━━━━━━━━━━━━━╇━━━━━━━━━━━━━━━┩\n",
       "│ conv1d_1 (<span style=\"color: #0087ff; text-decoration-color: #0087ff\">Conv1D</span>)               │ (<span style=\"color: #00d7ff; text-decoration-color: #00d7ff\">None</span>, <span style=\"color: #00af00; text-decoration-color: #00af00\">14</span>, <span style=\"color: #00af00; text-decoration-color: #00af00\">64</span>)         │         <span style=\"color: #00af00; text-decoration-color: #00af00\">1,216</span> │\n",
       "├─────────────────────────────────┼────────────────────────┼───────────────┤\n",
       "│ dense_2 (<span style=\"color: #0087ff; text-decoration-color: #0087ff\">Dense</span>)                 │ (<span style=\"color: #00d7ff; text-decoration-color: #00d7ff\">None</span>, <span style=\"color: #00af00; text-decoration-color: #00af00\">14</span>, <span style=\"color: #00af00; text-decoration-color: #00af00\">16</span>)         │         <span style=\"color: #00af00; text-decoration-color: #00af00\">1,040</span> │\n",
       "├─────────────────────────────────┼────────────────────────┼───────────────┤\n",
       "│ max_pooling1d_1 (<span style=\"color: #0087ff; text-decoration-color: #0087ff\">MaxPooling1D</span>)  │ (<span style=\"color: #00d7ff; text-decoration-color: #00d7ff\">None</span>, <span style=\"color: #00af00; text-decoration-color: #00af00\">7</span>, <span style=\"color: #00af00; text-decoration-color: #00af00\">16</span>)          │             <span style=\"color: #00af00; text-decoration-color: #00af00\">0</span> │\n",
       "├─────────────────────────────────┼────────────────────────┼───────────────┤\n",
       "│ flatten_1 (<span style=\"color: #0087ff; text-decoration-color: #0087ff\">Flatten</span>)             │ (<span style=\"color: #00d7ff; text-decoration-color: #00d7ff\">None</span>, <span style=\"color: #00af00; text-decoration-color: #00af00\">112</span>)            │             <span style=\"color: #00af00; text-decoration-color: #00af00\">0</span> │\n",
       "├─────────────────────────────────┼────────────────────────┼───────────────┤\n",
       "│ dense_3 (<span style=\"color: #0087ff; text-decoration-color: #0087ff\">Dense</span>)                 │ (<span style=\"color: #00d7ff; text-decoration-color: #00d7ff\">None</span>, <span style=\"color: #00af00; text-decoration-color: #00af00\">15</span>)             │         <span style=\"color: #00af00; text-decoration-color: #00af00\">1,695</span> │\n",
       "└─────────────────────────────────┴────────────────────────┴───────────────┘\n",
       "</pre>\n"
      ],
      "text/plain": [
       "┏━━━━━━━━━━━━━━━━━━━━━━━━━━━━━━━━━┳━━━━━━━━━━━━━━━━━━━━━━━━┳━━━━━━━━━━━━━━━┓\n",
       "┃\u001b[1m \u001b[0m\u001b[1mLayer (type)                   \u001b[0m\u001b[1m \u001b[0m┃\u001b[1m \u001b[0m\u001b[1mOutput Shape          \u001b[0m\u001b[1m \u001b[0m┃\u001b[1m \u001b[0m\u001b[1m      Param #\u001b[0m\u001b[1m \u001b[0m┃\n",
       "┡━━━━━━━━━━━━━━━━━━━━━━━━━━━━━━━━━╇━━━━━━━━━━━━━━━━━━━━━━━━╇━━━━━━━━━━━━━━━┩\n",
       "│ conv1d_1 (\u001b[38;5;33mConv1D\u001b[0m)               │ (\u001b[38;5;45mNone\u001b[0m, \u001b[38;5;34m14\u001b[0m, \u001b[38;5;34m64\u001b[0m)         │         \u001b[38;5;34m1,216\u001b[0m │\n",
       "├─────────────────────────────────┼────────────────────────┼───────────────┤\n",
       "│ dense_2 (\u001b[38;5;33mDense\u001b[0m)                 │ (\u001b[38;5;45mNone\u001b[0m, \u001b[38;5;34m14\u001b[0m, \u001b[38;5;34m16\u001b[0m)         │         \u001b[38;5;34m1,040\u001b[0m │\n",
       "├─────────────────────────────────┼────────────────────────┼───────────────┤\n",
       "│ max_pooling1d_1 (\u001b[38;5;33mMaxPooling1D\u001b[0m)  │ (\u001b[38;5;45mNone\u001b[0m, \u001b[38;5;34m7\u001b[0m, \u001b[38;5;34m16\u001b[0m)          │             \u001b[38;5;34m0\u001b[0m │\n",
       "├─────────────────────────────────┼────────────────────────┼───────────────┤\n",
       "│ flatten_1 (\u001b[38;5;33mFlatten\u001b[0m)             │ (\u001b[38;5;45mNone\u001b[0m, \u001b[38;5;34m112\u001b[0m)            │             \u001b[38;5;34m0\u001b[0m │\n",
       "├─────────────────────────────────┼────────────────────────┼───────────────┤\n",
       "│ dense_3 (\u001b[38;5;33mDense\u001b[0m)                 │ (\u001b[38;5;45mNone\u001b[0m, \u001b[38;5;34m15\u001b[0m)             │         \u001b[38;5;34m1,695\u001b[0m │\n",
       "└─────────────────────────────────┴────────────────────────┴───────────────┘\n"
      ]
     },
     "metadata": {},
     "output_type": "display_data"
    },
    {
     "data": {
      "text/html": [
       "<pre style=\"white-space:pre;overflow-x:auto;line-height:normal;font-family:Menlo,'DejaVu Sans Mono',consolas,'Courier New',monospace\"><span style=\"font-weight: bold\"> Total params: </span><span style=\"color: #00af00; text-decoration-color: #00af00\">3,951</span> (15.43 KB)\n",
       "</pre>\n"
      ],
      "text/plain": [
       "\u001b[1m Total params: \u001b[0m\u001b[38;5;34m3,951\u001b[0m (15.43 KB)\n"
      ]
     },
     "metadata": {},
     "output_type": "display_data"
    },
    {
     "data": {
      "text/html": [
       "<pre style=\"white-space:pre;overflow-x:auto;line-height:normal;font-family:Menlo,'DejaVu Sans Mono',consolas,'Courier New',monospace\"><span style=\"font-weight: bold\"> Trainable params: </span><span style=\"color: #00af00; text-decoration-color: #00af00\">3,951</span> (15.43 KB)\n",
       "</pre>\n"
      ],
      "text/plain": [
       "\u001b[1m Trainable params: \u001b[0m\u001b[38;5;34m3,951\u001b[0m (15.43 KB)\n"
      ]
     },
     "metadata": {},
     "output_type": "display_data"
    },
    {
     "data": {
      "text/html": [
       "<pre style=\"white-space:pre;overflow-x:auto;line-height:normal;font-family:Menlo,'DejaVu Sans Mono',consolas,'Courier New',monospace\"><span style=\"font-weight: bold\"> Non-trainable params: </span><span style=\"color: #00af00; text-decoration-color: #00af00\">0</span> (0.00 B)\n",
       "</pre>\n"
      ],
      "text/plain": [
       "\u001b[1m Non-trainable params: \u001b[0m\u001b[38;5;34m0\u001b[0m (0.00 B)\n"
      ]
     },
     "metadata": {},
     "output_type": "display_data"
    }
   ],
   "source": [
    "model.summary()"
   ]
  },
  {
   "cell_type": "code",
   "execution_count": 66,
   "id": "e7e9377c-8413-4211-abf3-0a1db5585212",
   "metadata": {},
   "outputs": [],
   "source": [
    "epochs = 30\n",
    "batch_size = 16\n",
    "n_hidden = 128\n",
    "\n",
    "timesteps = len(X_train[0])\n",
    "input_dim = len(X_train[0][0])\n",
    "n_classes = len(y_train[0])\n",
    "\n",
    "model = Sequential()\n",
    "model.add(Conv1D(n_hidden, kernel_size=2, activation='relu', input_shape=(timesteps, input_dim)))\n",
    "model.add(Dense(16, activation='relu'))\n",
    "model.add(MaxPooling1D())\n",
    "model.add(Flatten())\n",
    "model.add(Dense(n_classes, activation='softmax')) # Options: sigmoid, tanh, softmax, relu"
   ]
  },
  {
   "cell_type": "code",
   "execution_count": 67,
   "id": "921f0ce9-3301-41b0-ae83-72dd352677f5",
   "metadata": {},
   "outputs": [
    {
     "data": {
      "text/html": [
       "<pre style=\"white-space:pre;overflow-x:auto;line-height:normal;font-family:Menlo,'DejaVu Sans Mono',consolas,'Courier New',monospace\"><span style=\"font-weight: bold\">Model: \"sequential_2\"</span>\n",
       "</pre>\n"
      ],
      "text/plain": [
       "\u001b[1mModel: \"sequential_2\"\u001b[0m\n"
      ]
     },
     "metadata": {},
     "output_type": "display_data"
    },
    {
     "data": {
      "text/html": [
       "<pre style=\"white-space:pre;overflow-x:auto;line-height:normal;font-family:Menlo,'DejaVu Sans Mono',consolas,'Courier New',monospace\">┏━━━━━━━━━━━━━━━━━━━━━━━━━━━━━━━━━┳━━━━━━━━━━━━━━━━━━━━━━━━┳━━━━━━━━━━━━━━━┓\n",
       "┃<span style=\"font-weight: bold\"> Layer (type)                    </span>┃<span style=\"font-weight: bold\"> Output Shape           </span>┃<span style=\"font-weight: bold\">       Param # </span>┃\n",
       "┡━━━━━━━━━━━━━━━━━━━━━━━━━━━━━━━━━╇━━━━━━━━━━━━━━━━━━━━━━━━╇━━━━━━━━━━━━━━━┩\n",
       "│ conv1d_2 (<span style=\"color: #0087ff; text-decoration-color: #0087ff\">Conv1D</span>)               │ (<span style=\"color: #00d7ff; text-decoration-color: #00d7ff\">None</span>, <span style=\"color: #00af00; text-decoration-color: #00af00\">14</span>, <span style=\"color: #00af00; text-decoration-color: #00af00\">128</span>)        │         <span style=\"color: #00af00; text-decoration-color: #00af00\">2,432</span> │\n",
       "├─────────────────────────────────┼────────────────────────┼───────────────┤\n",
       "│ dense_4 (<span style=\"color: #0087ff; text-decoration-color: #0087ff\">Dense</span>)                 │ (<span style=\"color: #00d7ff; text-decoration-color: #00d7ff\">None</span>, <span style=\"color: #00af00; text-decoration-color: #00af00\">14</span>, <span style=\"color: #00af00; text-decoration-color: #00af00\">16</span>)         │         <span style=\"color: #00af00; text-decoration-color: #00af00\">2,064</span> │\n",
       "├─────────────────────────────────┼────────────────────────┼───────────────┤\n",
       "│ max_pooling1d_2 (<span style=\"color: #0087ff; text-decoration-color: #0087ff\">MaxPooling1D</span>)  │ (<span style=\"color: #00d7ff; text-decoration-color: #00d7ff\">None</span>, <span style=\"color: #00af00; text-decoration-color: #00af00\">7</span>, <span style=\"color: #00af00; text-decoration-color: #00af00\">16</span>)          │             <span style=\"color: #00af00; text-decoration-color: #00af00\">0</span> │\n",
       "├─────────────────────────────────┼────────────────────────┼───────────────┤\n",
       "│ flatten_2 (<span style=\"color: #0087ff; text-decoration-color: #0087ff\">Flatten</span>)             │ (<span style=\"color: #00d7ff; text-decoration-color: #00d7ff\">None</span>, <span style=\"color: #00af00; text-decoration-color: #00af00\">112</span>)            │             <span style=\"color: #00af00; text-decoration-color: #00af00\">0</span> │\n",
       "├─────────────────────────────────┼────────────────────────┼───────────────┤\n",
       "│ dense_5 (<span style=\"color: #0087ff; text-decoration-color: #0087ff\">Dense</span>)                 │ (<span style=\"color: #00d7ff; text-decoration-color: #00d7ff\">None</span>, <span style=\"color: #00af00; text-decoration-color: #00af00\">15</span>)             │         <span style=\"color: #00af00; text-decoration-color: #00af00\">1,695</span> │\n",
       "└─────────────────────────────────┴────────────────────────┴───────────────┘\n",
       "</pre>\n"
      ],
      "text/plain": [
       "┏━━━━━━━━━━━━━━━━━━━━━━━━━━━━━━━━━┳━━━━━━━━━━━━━━━━━━━━━━━━┳━━━━━━━━━━━━━━━┓\n",
       "┃\u001b[1m \u001b[0m\u001b[1mLayer (type)                   \u001b[0m\u001b[1m \u001b[0m┃\u001b[1m \u001b[0m\u001b[1mOutput Shape          \u001b[0m\u001b[1m \u001b[0m┃\u001b[1m \u001b[0m\u001b[1m      Param #\u001b[0m\u001b[1m \u001b[0m┃\n",
       "┡━━━━━━━━━━━━━━━━━━━━━━━━━━━━━━━━━╇━━━━━━━━━━━━━━━━━━━━━━━━╇━━━━━━━━━━━━━━━┩\n",
       "│ conv1d_2 (\u001b[38;5;33mConv1D\u001b[0m)               │ (\u001b[38;5;45mNone\u001b[0m, \u001b[38;5;34m14\u001b[0m, \u001b[38;5;34m128\u001b[0m)        │         \u001b[38;5;34m2,432\u001b[0m │\n",
       "├─────────────────────────────────┼────────────────────────┼───────────────┤\n",
       "│ dense_4 (\u001b[38;5;33mDense\u001b[0m)                 │ (\u001b[38;5;45mNone\u001b[0m, \u001b[38;5;34m14\u001b[0m, \u001b[38;5;34m16\u001b[0m)         │         \u001b[38;5;34m2,064\u001b[0m │\n",
       "├─────────────────────────────────┼────────────────────────┼───────────────┤\n",
       "│ max_pooling1d_2 (\u001b[38;5;33mMaxPooling1D\u001b[0m)  │ (\u001b[38;5;45mNone\u001b[0m, \u001b[38;5;34m7\u001b[0m, \u001b[38;5;34m16\u001b[0m)          │             \u001b[38;5;34m0\u001b[0m │\n",
       "├─────────────────────────────────┼────────────────────────┼───────────────┤\n",
       "│ flatten_2 (\u001b[38;5;33mFlatten\u001b[0m)             │ (\u001b[38;5;45mNone\u001b[0m, \u001b[38;5;34m112\u001b[0m)            │             \u001b[38;5;34m0\u001b[0m │\n",
       "├─────────────────────────────────┼────────────────────────┼───────────────┤\n",
       "│ dense_5 (\u001b[38;5;33mDense\u001b[0m)                 │ (\u001b[38;5;45mNone\u001b[0m, \u001b[38;5;34m15\u001b[0m)             │         \u001b[38;5;34m1,695\u001b[0m │\n",
       "└─────────────────────────────────┴────────────────────────┴───────────────┘\n"
      ]
     },
     "metadata": {},
     "output_type": "display_data"
    },
    {
     "data": {
      "text/html": [
       "<pre style=\"white-space:pre;overflow-x:auto;line-height:normal;font-family:Menlo,'DejaVu Sans Mono',consolas,'Courier New',monospace\"><span style=\"font-weight: bold\"> Total params: </span><span style=\"color: #00af00; text-decoration-color: #00af00\">6,191</span> (24.18 KB)\n",
       "</pre>\n"
      ],
      "text/plain": [
       "\u001b[1m Total params: \u001b[0m\u001b[38;5;34m6,191\u001b[0m (24.18 KB)\n"
      ]
     },
     "metadata": {},
     "output_type": "display_data"
    },
    {
     "data": {
      "text/html": [
       "<pre style=\"white-space:pre;overflow-x:auto;line-height:normal;font-family:Menlo,'DejaVu Sans Mono',consolas,'Courier New',monospace\"><span style=\"font-weight: bold\"> Trainable params: </span><span style=\"color: #00af00; text-decoration-color: #00af00\">6,191</span> (24.18 KB)\n",
       "</pre>\n"
      ],
      "text/plain": [
       "\u001b[1m Trainable params: \u001b[0m\u001b[38;5;34m6,191\u001b[0m (24.18 KB)\n"
      ]
     },
     "metadata": {},
     "output_type": "display_data"
    },
    {
     "data": {
      "text/html": [
       "<pre style=\"white-space:pre;overflow-x:auto;line-height:normal;font-family:Menlo,'DejaVu Sans Mono',consolas,'Courier New',monospace\"><span style=\"font-weight: bold\"> Non-trainable params: </span><span style=\"color: #00af00; text-decoration-color: #00af00\">0</span> (0.00 B)\n",
       "</pre>\n"
      ],
      "text/plain": [
       "\u001b[1m Non-trainable params: \u001b[0m\u001b[38;5;34m0\u001b[0m (0.00 B)\n"
      ]
     },
     "metadata": {},
     "output_type": "display_data"
    }
   ],
   "source": [
    "model.summary()"
   ]
  },
  {
   "cell_type": "code",
   "execution_count": 68,
   "id": "4cd35e46-379e-41da-8cd6-90be79a5c1db",
   "metadata": {},
   "outputs": [],
   "source": [
    "epochs = 30\n",
    "batch_size = 16\n",
    "n_hidden = 256\n",
    "\n",
    "timesteps = len(X_train[0])\n",
    "input_dim = len(X_train[0][0])\n",
    "n_classes = len(y_train[0])\n",
    "\n",
    "model = Sequential()\n",
    "model.add(Conv1D(n_hidden, kernel_size=2, activation='relu', input_shape=(timesteps, input_dim)))\n",
    "model.add(Dense(16, activation='relu'))\n",
    "model.add(MaxPooling1D())\n",
    "model.add(Flatten())\n",
    "model.add(Dense(n_classes, activation='softmax')) # Options: sigmoid, tanh, softmax, relu"
   ]
  },
  {
   "cell_type": "code",
   "execution_count": 69,
   "id": "a77e0a1e-2530-4371-ac43-f4b5af7b4104",
   "metadata": {},
   "outputs": [
    {
     "data": {
      "text/html": [
       "<pre style=\"white-space:pre;overflow-x:auto;line-height:normal;font-family:Menlo,'DejaVu Sans Mono',consolas,'Courier New',monospace\"><span style=\"font-weight: bold\">Model: \"sequential_3\"</span>\n",
       "</pre>\n"
      ],
      "text/plain": [
       "\u001b[1mModel: \"sequential_3\"\u001b[0m\n"
      ]
     },
     "metadata": {},
     "output_type": "display_data"
    },
    {
     "data": {
      "text/html": [
       "<pre style=\"white-space:pre;overflow-x:auto;line-height:normal;font-family:Menlo,'DejaVu Sans Mono',consolas,'Courier New',monospace\">┏━━━━━━━━━━━━━━━━━━━━━━━━━━━━━━━━━┳━━━━━━━━━━━━━━━━━━━━━━━━┳━━━━━━━━━━━━━━━┓\n",
       "┃<span style=\"font-weight: bold\"> Layer (type)                    </span>┃<span style=\"font-weight: bold\"> Output Shape           </span>┃<span style=\"font-weight: bold\">       Param # </span>┃\n",
       "┡━━━━━━━━━━━━━━━━━━━━━━━━━━━━━━━━━╇━━━━━━━━━━━━━━━━━━━━━━━━╇━━━━━━━━━━━━━━━┩\n",
       "│ conv1d_3 (<span style=\"color: #0087ff; text-decoration-color: #0087ff\">Conv1D</span>)               │ (<span style=\"color: #00d7ff; text-decoration-color: #00d7ff\">None</span>, <span style=\"color: #00af00; text-decoration-color: #00af00\">14</span>, <span style=\"color: #00af00; text-decoration-color: #00af00\">256</span>)        │         <span style=\"color: #00af00; text-decoration-color: #00af00\">4,864</span> │\n",
       "├─────────────────────────────────┼────────────────────────┼───────────────┤\n",
       "│ dense_6 (<span style=\"color: #0087ff; text-decoration-color: #0087ff\">Dense</span>)                 │ (<span style=\"color: #00d7ff; text-decoration-color: #00d7ff\">None</span>, <span style=\"color: #00af00; text-decoration-color: #00af00\">14</span>, <span style=\"color: #00af00; text-decoration-color: #00af00\">16</span>)         │         <span style=\"color: #00af00; text-decoration-color: #00af00\">4,112</span> │\n",
       "├─────────────────────────────────┼────────────────────────┼───────────────┤\n",
       "│ max_pooling1d_3 (<span style=\"color: #0087ff; text-decoration-color: #0087ff\">MaxPooling1D</span>)  │ (<span style=\"color: #00d7ff; text-decoration-color: #00d7ff\">None</span>, <span style=\"color: #00af00; text-decoration-color: #00af00\">7</span>, <span style=\"color: #00af00; text-decoration-color: #00af00\">16</span>)          │             <span style=\"color: #00af00; text-decoration-color: #00af00\">0</span> │\n",
       "├─────────────────────────────────┼────────────────────────┼───────────────┤\n",
       "│ flatten_3 (<span style=\"color: #0087ff; text-decoration-color: #0087ff\">Flatten</span>)             │ (<span style=\"color: #00d7ff; text-decoration-color: #00d7ff\">None</span>, <span style=\"color: #00af00; text-decoration-color: #00af00\">112</span>)            │             <span style=\"color: #00af00; text-decoration-color: #00af00\">0</span> │\n",
       "├─────────────────────────────────┼────────────────────────┼───────────────┤\n",
       "│ dense_7 (<span style=\"color: #0087ff; text-decoration-color: #0087ff\">Dense</span>)                 │ (<span style=\"color: #00d7ff; text-decoration-color: #00d7ff\">None</span>, <span style=\"color: #00af00; text-decoration-color: #00af00\">15</span>)             │         <span style=\"color: #00af00; text-decoration-color: #00af00\">1,695</span> │\n",
       "└─────────────────────────────────┴────────────────────────┴───────────────┘\n",
       "</pre>\n"
      ],
      "text/plain": [
       "┏━━━━━━━━━━━━━━━━━━━━━━━━━━━━━━━━━┳━━━━━━━━━━━━━━━━━━━━━━━━┳━━━━━━━━━━━━━━━┓\n",
       "┃\u001b[1m \u001b[0m\u001b[1mLayer (type)                   \u001b[0m\u001b[1m \u001b[0m┃\u001b[1m \u001b[0m\u001b[1mOutput Shape          \u001b[0m\u001b[1m \u001b[0m┃\u001b[1m \u001b[0m\u001b[1m      Param #\u001b[0m\u001b[1m \u001b[0m┃\n",
       "┡━━━━━━━━━━━━━━━━━━━━━━━━━━━━━━━━━╇━━━━━━━━━━━━━━━━━━━━━━━━╇━━━━━━━━━━━━━━━┩\n",
       "│ conv1d_3 (\u001b[38;5;33mConv1D\u001b[0m)               │ (\u001b[38;5;45mNone\u001b[0m, \u001b[38;5;34m14\u001b[0m, \u001b[38;5;34m256\u001b[0m)        │         \u001b[38;5;34m4,864\u001b[0m │\n",
       "├─────────────────────────────────┼────────────────────────┼───────────────┤\n",
       "│ dense_6 (\u001b[38;5;33mDense\u001b[0m)                 │ (\u001b[38;5;45mNone\u001b[0m, \u001b[38;5;34m14\u001b[0m, \u001b[38;5;34m16\u001b[0m)         │         \u001b[38;5;34m4,112\u001b[0m │\n",
       "├─────────────────────────────────┼────────────────────────┼───────────────┤\n",
       "│ max_pooling1d_3 (\u001b[38;5;33mMaxPooling1D\u001b[0m)  │ (\u001b[38;5;45mNone\u001b[0m, \u001b[38;5;34m7\u001b[0m, \u001b[38;5;34m16\u001b[0m)          │             \u001b[38;5;34m0\u001b[0m │\n",
       "├─────────────────────────────────┼────────────────────────┼───────────────┤\n",
       "│ flatten_3 (\u001b[38;5;33mFlatten\u001b[0m)             │ (\u001b[38;5;45mNone\u001b[0m, \u001b[38;5;34m112\u001b[0m)            │             \u001b[38;5;34m0\u001b[0m │\n",
       "├─────────────────────────────────┼────────────────────────┼───────────────┤\n",
       "│ dense_7 (\u001b[38;5;33mDense\u001b[0m)                 │ (\u001b[38;5;45mNone\u001b[0m, \u001b[38;5;34m15\u001b[0m)             │         \u001b[38;5;34m1,695\u001b[0m │\n",
       "└─────────────────────────────────┴────────────────────────┴───────────────┘\n"
      ]
     },
     "metadata": {},
     "output_type": "display_data"
    },
    {
     "data": {
      "text/html": [
       "<pre style=\"white-space:pre;overflow-x:auto;line-height:normal;font-family:Menlo,'DejaVu Sans Mono',consolas,'Courier New',monospace\"><span style=\"font-weight: bold\"> Total params: </span><span style=\"color: #00af00; text-decoration-color: #00af00\">10,671</span> (41.68 KB)\n",
       "</pre>\n"
      ],
      "text/plain": [
       "\u001b[1m Total params: \u001b[0m\u001b[38;5;34m10,671\u001b[0m (41.68 KB)\n"
      ]
     },
     "metadata": {},
     "output_type": "display_data"
    },
    {
     "data": {
      "text/html": [
       "<pre style=\"white-space:pre;overflow-x:auto;line-height:normal;font-family:Menlo,'DejaVu Sans Mono',consolas,'Courier New',monospace\"><span style=\"font-weight: bold\"> Trainable params: </span><span style=\"color: #00af00; text-decoration-color: #00af00\">10,671</span> (41.68 KB)\n",
       "</pre>\n"
      ],
      "text/plain": [
       "\u001b[1m Trainable params: \u001b[0m\u001b[38;5;34m10,671\u001b[0m (41.68 KB)\n"
      ]
     },
     "metadata": {},
     "output_type": "display_data"
    },
    {
     "data": {
      "text/html": [
       "<pre style=\"white-space:pre;overflow-x:auto;line-height:normal;font-family:Menlo,'DejaVu Sans Mono',consolas,'Courier New',monospace\"><span style=\"font-weight: bold\"> Non-trainable params: </span><span style=\"color: #00af00; text-decoration-color: #00af00\">0</span> (0.00 B)\n",
       "</pre>\n"
      ],
      "text/plain": [
       "\u001b[1m Non-trainable params: \u001b[0m\u001b[38;5;34m0\u001b[0m (0.00 B)\n"
      ]
     },
     "metadata": {},
     "output_type": "display_data"
    }
   ],
   "source": [
    "model.summary()"
   ]
  },
  {
   "cell_type": "markdown",
   "id": "65321366-70ce-4716-8394-5f77b88cea49",
   "metadata": {},
   "source": [
    "# 6. Compiling and Running"
   ]
  },
  {
   "cell_type": "code",
   "execution_count": 70,
   "id": "1a56f7c6-dd2c-4728-8d6c-84086e59a19c",
   "metadata": {},
   "outputs": [],
   "source": [
    "model.compile(loss='categorical_crossentropy', optimizer='adam', metrics=['accuracy'])"
   ]
  },
  {
   "cell_type": "code",
   "execution_count": 71,
   "id": "4783ecb6-d393-46b0-ae43-c817e069045f",
   "metadata": {},
   "outputs": [
    {
     "name": "stdout",
     "output_type": "stream",
     "text": [
      "Epoch 1/30\n",
      "1076/1076 - 13s - 12ms/step - accuracy: 0.1214 - loss: 43252.4805\n",
      "Epoch 2/30\n",
      "1076/1076 - 6s - 6ms/step - accuracy: 0.1272 - loss: 447610.9062\n",
      "Epoch 3/30\n",
      "1076/1076 - 6s - 6ms/step - accuracy: 0.1357 - loss: 1516340.1250\n",
      "Epoch 4/30\n",
      "1076/1076 - 7s - 6ms/step - accuracy: 0.1322 - loss: 3224453.2500\n",
      "Epoch 5/30\n",
      "1076/1076 - 6s - 6ms/step - accuracy: 0.1274 - loss: 5676839.0000\n",
      "Epoch 6/30\n",
      "1076/1076 - 6s - 6ms/step - accuracy: 0.1234 - loss: 8985744.0000\n",
      "Epoch 7/30\n",
      "1076/1076 - 6s - 6ms/step - accuracy: 0.1261 - loss: 13204717.0000\n",
      "Epoch 8/30\n",
      "1076/1076 - 6s - 6ms/step - accuracy: 0.1221 - loss: 18426324.0000\n",
      "Epoch 9/30\n",
      "1076/1076 - 6s - 6ms/step - accuracy: 0.1242 - loss: 24316798.0000\n",
      "Epoch 10/30\n",
      "1076/1076 - 6s - 6ms/step - accuracy: 0.1239 - loss: 31672588.0000\n",
      "Epoch 11/30\n",
      "1076/1076 - 6s - 6ms/step - accuracy: 0.1206 - loss: 40313672.0000\n",
      "Epoch 12/30\n",
      "1076/1076 - 6s - 6ms/step - accuracy: 0.1199 - loss: 49850032.0000\n",
      "Epoch 13/30\n",
      "1076/1076 - 6s - 6ms/step - accuracy: 0.1183 - loss: 61199684.0000\n",
      "Epoch 14/30\n",
      "1076/1076 - 7s - 6ms/step - accuracy: 0.1169 - loss: 74518648.0000\n",
      "Epoch 15/30\n",
      "1076/1076 - 6s - 6ms/step - accuracy: 0.1207 - loss: 88334088.0000\n",
      "Epoch 16/30\n",
      "1076/1076 - 6s - 6ms/step - accuracy: 0.1258 - loss: 104927688.0000\n",
      "Epoch 17/30\n",
      "1076/1076 - 6s - 6ms/step - accuracy: 0.1202 - loss: 122519232.0000\n",
      "Epoch 18/30\n",
      "1076/1076 - 6s - 6ms/step - accuracy: 0.1201 - loss: 142362960.0000\n",
      "Epoch 19/30\n",
      "1076/1076 - 6s - 6ms/step - accuracy: 0.1242 - loss: 162502736.0000\n",
      "Epoch 20/30\n",
      "1076/1076 - 6s - 5ms/step - accuracy: 0.1215 - loss: 185855664.0000\n",
      "Epoch 21/30\n",
      "1076/1076 - 6s - 6ms/step - accuracy: 0.1206 - loss: 209802112.0000\n",
      "Epoch 22/30\n",
      "1076/1076 - 6s - 6ms/step - accuracy: 0.1203 - loss: 238496112.0000\n",
      "Epoch 23/30\n",
      "1076/1076 - 6s - 6ms/step - accuracy: 0.1184 - loss: 268067088.0000\n",
      "Epoch 24/30\n",
      "1076/1076 - 6s - 6ms/step - accuracy: 0.1240 - loss: 300186976.0000\n",
      "Epoch 25/30\n",
      "1076/1076 - 6s - 6ms/step - accuracy: 0.1202 - loss: 335013856.0000\n",
      "Epoch 26/30\n",
      "1076/1076 - 6s - 6ms/step - accuracy: 0.1236 - loss: 371447200.0000\n",
      "Epoch 27/30\n",
      "1076/1076 - 6s - 6ms/step - accuracy: 0.1234 - loss: 410349888.0000\n",
      "Epoch 28/30\n",
      "1076/1076 - 6s - 5ms/step - accuracy: 0.1211 - loss: 454536704.0000\n",
      "Epoch 29/30\n",
      "1076/1076 - 6s - 6ms/step - accuracy: 0.1216 - loss: 498006880.0000\n",
      "Epoch 30/30\n",
      "1076/1076 - 6s - 6ms/step - accuracy: 0.1180 - loss: 543366464.0000\n"
     ]
    },
    {
     "data": {
      "text/plain": [
       "<keras.src.callbacks.history.History at 0x1d650b4c5d0>"
      ]
     },
     "execution_count": 71,
     "metadata": {},
     "output_type": "execute_result"
    }
   ],
   "source": [
    "model.fit(X_train, y_train, batch_size=batch_size, epochs=epochs, verbose=2)"
   ]
  },
  {
   "cell_type": "markdown",
   "id": "0cec6d35-8ee9-40bc-9ded-2989e8c22d55",
   "metadata": {},
   "source": [
    "# 7. Creating Confusion Matrix"
   ]
  },
  {
   "cell_type": "code",
   "execution_count": 72,
   "id": "79f86b92-e22e-4c69-86e3-bf145fd77600",
   "metadata": {},
   "outputs": [],
   "source": [
    "# Define list of stations names\n",
    "\n",
    "stations = {\n",
    "0: 'BASEL',\n",
    "1: 'BELGRADE',\n",
    "2: 'BUDAPEST',\n",
    "3: 'DEBILT',\n",
    "4: 'DUSSELDORF',\n",
    "5: 'HEATHROW',\n",
    "6: 'KASSEL',\n",
    "7: 'LJUBLJANA',\n",
    "8: 'MAASTRICHT',\n",
    "9: 'MADRID',\n",
    "10: 'MUNCHENB',\n",
    "11: 'OSLO',\n",
    "12: 'SONNBLICK',\n",
    "13: 'STOCKHOLM',\n",
    "14: 'VALENTIA'\n",
    "\n",
    "}"
   ]
  },
  {
   "cell_type": "code",
   "execution_count": 73,
   "id": "559ff992-0115-45e5-96b4-60078fba5cfa",
   "metadata": {},
   "outputs": [],
   "source": [
    "def confusion_matrix(y_true, y_pred):\n",
    "    y_true = pd.Series([stations[y] for y in np.argmax(y_true, axis=1)])\n",
    "    y_pred = pd.Series([stations[y] for y in np.argmax(y_pred, axis=1)])\n",
    "\n",
    "    return pd.crosstab(y_true, y_pred, rownames=['True'], colnames=['Pred'])"
   ]
  },
  {
   "cell_type": "code",
   "execution_count": 75,
   "id": "8bf7d861-db98-46d0-b779-f099f45b7210",
   "metadata": {},
   "outputs": [
    {
     "name": "stdout",
     "output_type": "stream",
     "text": [
      "\u001b[1m180/180\u001b[0m \u001b[32m━━━━━━━━━━━━━━━━━━━━\u001b[0m\u001b[37m\u001b[0m \u001b[1m1s\u001b[0m 4ms/step\n",
      "Pred        BASEL  BELGRADE  BUDAPEST  DEBILT  DUSSELDORF  HEATHROW  KASSEL  \\\n",
      "True                                                                          \n",
      "BASEL          16        85       574     547        1233        33     107   \n",
      "BELGRADE        0       102        74     106         564         0       1   \n",
      "BUDAPEST        0        10        11      41         103         0       0   \n",
      "DEBILT          0         7         0      23          45         0       0   \n",
      "DUSSELDORF      0         0         0       9          16         0       0   \n",
      "HEATHROW        0         1         0      29          34         0       0   \n",
      "KASSEL          0         2         0       2           5         0       0   \n",
      "LJUBLJANA       0         2         2       7          20         0       0   \n",
      "MAASTRICHT      0         0         0       0           6         0       0   \n",
      "MADRID          1         0        17     112         133         1       5   \n",
      "MUNCHENB        0         0         0       0           1         0       0   \n",
      "OSLO            0         0         0       2           2         0       0   \n",
      "STOCKHOLM       0         1         0       1           1         0       0   \n",
      "VALENTIA        0         0         0       1           0         0       0   \n",
      "\n",
      "Pred        MAASTRICHT  MADRID  MUNCHENB  OSLO  SONNBLICK  STOCKHOLM  VALENTIA  \n",
      "True                                                                            \n",
      "BASEL                1     954         3    85          6          6        32  \n",
      "BELGRADE             0     236         0     9          0          0         0  \n",
      "BUDAPEST             0      47         0     2          0          0         0  \n",
      "DEBILT               0       6         0     1          0          0         0  \n",
      "DUSSELDORF           0       4         0     0          0          0         0  \n",
      "HEATHROW             0      16         0     2          0          0         0  \n",
      "KASSEL               0       1         0     1          0          0         0  \n",
      "LJUBLJANA            0      30         0     0          0          0         0  \n",
      "MAASTRICHT           0       3         0     0          0          0         0  \n",
      "MADRID               0     171         0    17          0          1         0  \n",
      "MUNCHENB             0       6         0     1          0          0         0  \n",
      "OSLO                 0       1         0     0          0          0         0  \n",
      "STOCKHOLM            0       1         0     0          0          0         0  \n",
      "VALENTIA             0       0         0     0          0          0         0  \n"
     ]
    }
   ],
   "source": [
    "# Evaluate\n",
    "\n",
    "print(confusion_matrix(y_test, model.predict(X_test)))"
   ]
  },
  {
   "cell_type": "code",
   "execution_count": null,
   "id": "73c01277-5a81-4a5c-a128-b69c666f0da1",
   "metadata": {},
   "outputs": [],
   "source": []
  }
 ],
 "metadata": {
  "kernelspec": {
   "display_name": "Python 3 (ipykernel)",
   "language": "python",
   "name": "python3"
  },
  "language_info": {
   "codemirror_mode": {
    "name": "ipython",
    "version": 3
   },
   "file_extension": ".py",
   "mimetype": "text/x-python",
   "name": "python",
   "nbconvert_exporter": "python",
   "pygments_lexer": "ipython3",
   "version": "3.11.7"
  }
 },
 "nbformat": 4,
 "nbformat_minor": 5
}
